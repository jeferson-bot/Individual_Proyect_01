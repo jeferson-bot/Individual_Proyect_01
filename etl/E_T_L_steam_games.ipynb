{
 "cells": [
  {
   "cell_type": "code",
   "execution_count": 44,
   "metadata": {},
   "outputs": [],
   "source": [
    "import json\n",
    "import gzip\n",
    "import pandas as pd\n",
    "import numpy as np\n"
   ]
  },
  {
   "cell_type": "code",
   "execution_count": 45,
   "metadata": {},
   "outputs": [],
   "source": [
    "df_steam_games = pd.read_json(\n",
    "    'datasets\\output_steam_games.json', lines=True\n",
    ")"
   ]
  },
  {
   "cell_type": "code",
   "execution_count": 46,
   "metadata": {},
   "outputs": [
    {
     "data": {
      "text/html": [
       "<div>\n",
       "<style scoped>\n",
       "    .dataframe tbody tr th:only-of-type {\n",
       "        vertical-align: middle;\n",
       "    }\n",
       "\n",
       "    .dataframe tbody tr th {\n",
       "        vertical-align: top;\n",
       "    }\n",
       "\n",
       "    .dataframe thead th {\n",
       "        text-align: right;\n",
       "    }\n",
       "</style>\n",
       "<table border=\"1\" class=\"dataframe\">\n",
       "  <thead>\n",
       "    <tr style=\"text-align: right;\">\n",
       "      <th></th>\n",
       "      <th>publisher</th>\n",
       "      <th>genres</th>\n",
       "      <th>app_name</th>\n",
       "      <th>title</th>\n",
       "      <th>url</th>\n",
       "      <th>release_date</th>\n",
       "      <th>tags</th>\n",
       "      <th>reviews_url</th>\n",
       "      <th>specs</th>\n",
       "      <th>price</th>\n",
       "      <th>early_access</th>\n",
       "      <th>id</th>\n",
       "      <th>developer</th>\n",
       "    </tr>\n",
       "  </thead>\n",
       "  <tbody>\n",
       "    <tr>\n",
       "      <th>0</th>\n",
       "      <td>None</td>\n",
       "      <td>None</td>\n",
       "      <td>None</td>\n",
       "      <td>None</td>\n",
       "      <td>None</td>\n",
       "      <td>None</td>\n",
       "      <td>None</td>\n",
       "      <td>None</td>\n",
       "      <td>None</td>\n",
       "      <td>None</td>\n",
       "      <td>NaN</td>\n",
       "      <td>NaN</td>\n",
       "      <td>None</td>\n",
       "    </tr>\n",
       "    <tr>\n",
       "      <th>1</th>\n",
       "      <td>None</td>\n",
       "      <td>None</td>\n",
       "      <td>None</td>\n",
       "      <td>None</td>\n",
       "      <td>None</td>\n",
       "      <td>None</td>\n",
       "      <td>None</td>\n",
       "      <td>None</td>\n",
       "      <td>None</td>\n",
       "      <td>None</td>\n",
       "      <td>NaN</td>\n",
       "      <td>NaN</td>\n",
       "      <td>None</td>\n",
       "    </tr>\n",
       "    <tr>\n",
       "      <th>2</th>\n",
       "      <td>None</td>\n",
       "      <td>None</td>\n",
       "      <td>None</td>\n",
       "      <td>None</td>\n",
       "      <td>None</td>\n",
       "      <td>None</td>\n",
       "      <td>None</td>\n",
       "      <td>None</td>\n",
       "      <td>None</td>\n",
       "      <td>None</td>\n",
       "      <td>NaN</td>\n",
       "      <td>NaN</td>\n",
       "      <td>None</td>\n",
       "    </tr>\n",
       "    <tr>\n",
       "      <th>3</th>\n",
       "      <td>None</td>\n",
       "      <td>None</td>\n",
       "      <td>None</td>\n",
       "      <td>None</td>\n",
       "      <td>None</td>\n",
       "      <td>None</td>\n",
       "      <td>None</td>\n",
       "      <td>None</td>\n",
       "      <td>None</td>\n",
       "      <td>None</td>\n",
       "      <td>NaN</td>\n",
       "      <td>NaN</td>\n",
       "      <td>None</td>\n",
       "    </tr>\n",
       "    <tr>\n",
       "      <th>4</th>\n",
       "      <td>None</td>\n",
       "      <td>None</td>\n",
       "      <td>None</td>\n",
       "      <td>None</td>\n",
       "      <td>None</td>\n",
       "      <td>None</td>\n",
       "      <td>None</td>\n",
       "      <td>None</td>\n",
       "      <td>None</td>\n",
       "      <td>None</td>\n",
       "      <td>NaN</td>\n",
       "      <td>NaN</td>\n",
       "      <td>None</td>\n",
       "    </tr>\n",
       "  </tbody>\n",
       "</table>\n",
       "</div>"
      ],
      "text/plain": [
       "  publisher genres app_name title   url release_date  tags reviews_url specs  \\\n",
       "0      None   None     None  None  None         None  None        None  None   \n",
       "1      None   None     None  None  None         None  None        None  None   \n",
       "2      None   None     None  None  None         None  None        None  None   \n",
       "3      None   None     None  None  None         None  None        None  None   \n",
       "4      None   None     None  None  None         None  None        None  None   \n",
       "\n",
       "  price  early_access  id developer  \n",
       "0  None           NaN NaN      None  \n",
       "1  None           NaN NaN      None  \n",
       "2  None           NaN NaN      None  \n",
       "3  None           NaN NaN      None  \n",
       "4  None           NaN NaN      None  "
      ]
     },
     "execution_count": 46,
     "metadata": {},
     "output_type": "execute_result"
    }
   ],
   "source": [
    "df_steam_games.head()"
   ]
  },
  {
   "cell_type": "code",
   "execution_count": 47,
   "metadata": {},
   "outputs": [],
   "source": [
    "df_steam_games.dropna(how=\"all\", inplace=True)"
   ]
  },
  {
   "cell_type": "code",
   "execution_count": 48,
   "metadata": {},
   "outputs": [],
   "source": [
    "duplicados = df_steam_games[df_steam_games[\"id\"].duplicated()]\n"
   ]
  },
  {
   "cell_type": "code",
   "execution_count": 49,
   "metadata": {},
   "outputs": [],
   "source": [
    "df_steam_games.drop_duplicates(subset=\"id\",inplace=True)\n",
    "df_steam_games.dropna(subset=\"id\",inplace=True)\n",
    "\n"
   ]
  },
  {
   "cell_type": "code",
   "execution_count": 50,
   "metadata": {},
   "outputs": [],
   "source": [
    "df_steam_games[[\"app_name\", \"title\"]]\n",
    "df_steam_games['title'] = df_steam_games['title'].fillna(df_steam_games['app_name'])"
   ]
  },
  {
   "cell_type": "markdown",
   "metadata": {},
   "source": [
    "## Trabajo con la columna price"
   ]
  },
  {
   "cell_type": "code",
   "execution_count": 51,
   "metadata": {},
   "outputs": [
    {
     "data": {
      "text/plain": [
       "array([4.99, 'Free To Play', 'Free to Play', 0.99, 2.99, 3.99, 9.99,\n",
       "       18.99, 29.99, None, 'Free', 10.99, 1.5899999999999999, 14.99, 1.99,\n",
       "       59.99, 8.99, 6.99, 7.99, 39.99, 19.99, 7.49, 12.99, 5.99, 2.49,\n",
       "       15.99, 1.25, 24.99, 17.99, 61.99, 3.49, 11.99, 13.99, 'Free Demo',\n",
       "       'Play for Free!', 34.99, 74.76, 1.49, 32.99, 99.99, 14.95, 69.99,\n",
       "       16.99, 79.99, 49.99, 5.0, 44.99, 13.98, 29.96, 119.99, 109.99,\n",
       "       149.99, 771.71, 'Install Now', 21.99, 89.99,\n",
       "       'Play WARMACHINE: Tactics Demo', 0.98, 139.92, 4.29, 64.99,\n",
       "       'Free Mod', 54.99, 74.99, 'Install Theme', 0.89, 'Third-party',\n",
       "       0.5, 'Play Now', 299.99, 1.29, 3.0, 15.0, 5.49, 23.99, 49.0, 20.99,\n",
       "       10.93, 1.3900000000000001, 'Free HITMAN™ Holiday Pack', 36.99,\n",
       "       4.49, 2.0, 4.0, 9.0, 234.99, 1.9500000000000002, 1.5, 199.0, 189.0,\n",
       "       6.66, 27.99, 10.49, 129.99, 179.0, 26.99, 399.99, 31.99, 399.0,\n",
       "       20.0, 40.0, 3.33, 199.99, 22.99, 320.0, 38.85, 71.7, 59.95, 995.0,\n",
       "       27.49, 3.39, 6.0, 19.95, 499.99, 16.06, 4.68, 131.4, 44.98, 202.76,\n",
       "       1.0, 2.3, 0.9500000000000001, 172.24, 249.99, 2.9699999999999998,\n",
       "       10.96, 10.0, 30.0, 2.66, 6.48, 19.29, 11.15, 18.9, 2.89,\n",
       "       'Play the Demo', 99.0, 87.94, 599.0, 8.98, 9.69, 0.49, 9.98, 9.95,\n",
       "       7.0, 'Starting at $499.00', 'Starting at $449.00', 12.89, 6.49,\n",
       "       1.87, 42.99, 41.99, 289.99, 'Free to Try', 23.96, 5.65, 12.0,\n",
       "       13.37, 189.96, 124.99, 'Free Movie', 19.98, 160.91, 'Free to Use'],\n",
       "      dtype=object)"
      ]
     },
     "execution_count": 51,
     "metadata": {},
     "output_type": "execute_result"
    }
   ],
   "source": [
    "df_steam_games[\"price\"].unique()"
   ]
  },
  {
   "cell_type": "code",
   "execution_count": 52,
   "metadata": {},
   "outputs": [
    {
     "data": {
      "text/plain": [
       "1377"
      ]
     },
     "execution_count": 52,
     "metadata": {},
     "output_type": "execute_result"
    }
   ],
   "source": [
    "df_steam_games[\"price\"].isna().sum()\n"
   ]
  },
  {
   "cell_type": "code",
   "execution_count": 53,
   "metadata": {},
   "outputs": [],
   "source": [
    "mask = []\n",
    "for i in df_steam_games[\"genres\"]:\n",
    "    if i is None:\n",
    "        mask.append(False)\n",
    "        continue\n",
    "    elif \"Free to play\" in i:\n",
    "        mask.append(True)\n",
    "    else:\n",
    "        mask.append(False)\n",
    "\n",
    "df_steam_games.loc[(mask) & (df_steam_games[\"price\"].isna()), \"price\"] = 0.0"
   ]
  },
  {
   "cell_type": "code",
   "execution_count": 54,
   "metadata": {},
   "outputs": [
    {
     "data": {
      "text/plain": [
       "1377"
      ]
     },
     "execution_count": 54,
     "metadata": {},
     "output_type": "execute_result"
    }
   ],
   "source": [
    "df_steam_games[\"price\"].isna().sum()"
   ]
  },
  {
   "cell_type": "code",
   "execution_count": 55,
   "metadata": {},
   "outputs": [],
   "source": [
    "df_steam_games.dropna(subset=\"price\", inplace=True)"
   ]
  },
  {
   "cell_type": "code",
   "execution_count": 56,
   "metadata": {},
   "outputs": [],
   "source": [
    "df_steam_games[\"price\"] = df_steam_games[\"price\"].astype(str)\n"
   ]
  },
  {
   "cell_type": "code",
   "execution_count": 57,
   "metadata": {},
   "outputs": [],
   "source": [
    "df_steam_games = df_steam_games.replace(to_replace=\".*Free.*\", value=0, regex=True)"
   ]
  },
  {
   "cell_type": "code",
   "execution_count": 58,
   "metadata": {},
   "outputs": [
    {
     "data": {
      "text/plain": [
       "array(['4.99', 0, '0.99', '2.99', '3.99', '9.99', '18.99', '29.99',\n",
       "       '10.99', '1.5899999999999999', '14.99', '1.99', '59.99', '8.99',\n",
       "       '6.99', '7.99', '39.99', '19.99', '7.49', '12.99', '5.99', '2.49',\n",
       "       '15.99', '1.25', '24.99', '17.99', '61.99', '3.49', '11.99',\n",
       "       '13.99', '34.99', '74.76', '1.49', '32.99', '99.99', '14.95',\n",
       "       '69.99', '16.99', '79.99', '49.99', '5.0', '44.99', '13.98',\n",
       "       '29.96', '119.99', '109.99', '149.99', '771.71', 'Install Now',\n",
       "       '21.99', '89.99', 'Play WARMACHINE: Tactics Demo', '0.98',\n",
       "       '139.92', '4.29', '64.99', '54.99', '74.99', 'Install Theme',\n",
       "       '0.89', 'Third-party', '0.5', 'Play Now', '299.99', '1.29', '3.0',\n",
       "       '15.0', '5.49', '23.99', '49.0', '20.99', '10.93',\n",
       "       '1.3900000000000001', '36.99', '4.49', '2.0', '4.0', '9.0',\n",
       "       '234.99', '1.9500000000000002', '1.5', '199.0', '189.0', '6.66',\n",
       "       '27.99', '10.49', '129.99', '179.0', '26.99', '399.99', '31.99',\n",
       "       '399.0', '20.0', '40.0', '3.33', '199.99', '22.99', '320.0',\n",
       "       '38.85', '71.7', '59.95', '995.0', '27.49', '3.39', '6.0', '19.95',\n",
       "       '499.99', '16.06', '4.68', '131.4', '44.98', '202.76', '1.0',\n",
       "       '2.3', '0.9500000000000001', '172.24', '249.99',\n",
       "       '2.9699999999999998', '10.96', '10.0', '30.0', '2.66', '6.48',\n",
       "       '19.29', '11.15', '18.9', '2.89', 'Play the Demo', '99.0', '87.94',\n",
       "       '599.0', '8.98', '9.69', '0.49', '9.98', '9.95', '7.0',\n",
       "       'Starting at $499.00', 'Starting at $449.00', '12.89', '6.49',\n",
       "       '1.87', '42.99', '41.99', '289.99', '23.96', '5.65', '12.0',\n",
       "       '13.37', '189.96', '124.99', '19.98', '160.91'], dtype=object)"
      ]
     },
     "execution_count": 58,
     "metadata": {},
     "output_type": "execute_result"
    }
   ],
   "source": [
    "df_steam_games[\"price\"].unique()"
   ]
  },
  {
   "cell_type": "code",
   "execution_count": 59,
   "metadata": {},
   "outputs": [],
   "source": [
    "df_steam_games['price'] = pd.to_numeric(df_steam_games['price'], errors='coerce')\n",
    "df_steam_games['price'] = df_steam_games['price'].fillna(0.0)"
   ]
  },
  {
   "cell_type": "code",
   "execution_count": 60,
   "metadata": {},
   "outputs": [],
   "source": [
    "df_steam_games['price'] = df_steam_games['price'].astype(float).round(2)\n"
   ]
  },
  {
   "cell_type": "code",
   "execution_count": 61,
   "metadata": {},
   "outputs": [
    {
     "data": {
      "text/plain": [
       "30755"
      ]
     },
     "execution_count": 61,
     "metadata": {},
     "output_type": "execute_result"
    }
   ],
   "source": [
    "len(df_steam_games)"
   ]
  },
  {
   "cell_type": "markdown",
   "metadata": {},
   "source": [
    "## Trabajo con la columna release_date"
   ]
  },
  {
   "cell_type": "code",
   "execution_count": 62,
   "metadata": {},
   "outputs": [
    {
     "data": {
      "text/plain": [
       "array(['2018-01-04', '2017-07-24', '2017-12-07', ..., '2004-03-16',\n",
       "       '2004-03-01', '2016-11-19'], dtype=object)"
      ]
     },
     "execution_count": 62,
     "metadata": {},
     "output_type": "execute_result"
    }
   ],
   "source": [
    "df_steam_games['release_date'].unique()"
   ]
  },
  {
   "cell_type": "code",
   "execution_count": 63,
   "metadata": {},
   "outputs": [
    {
     "data": {
      "text/plain": [
       "1936"
      ]
     },
     "execution_count": 63,
     "metadata": {},
     "output_type": "execute_result"
    }
   ],
   "source": [
    "df_steam_games['release_date'].isna().sum()"
   ]
  },
  {
   "cell_type": "code",
   "execution_count": 64,
   "metadata": {},
   "outputs": [],
   "source": [
    "df_steam_games['release_date'] = pd.to_datetime(df_steam_games['release_date'], errors='coerce')\n",
    "df_steam_games['release_date'] = df_steam_games['release_date'].dt.year"
   ]
  },
  {
   "cell_type": "code",
   "execution_count": 65,
   "metadata": {},
   "outputs": [],
   "source": [
    "df_steam_games.dropna(subset=\"release_date\", inplace=True)\n"
   ]
  },
  {
   "cell_type": "code",
   "execution_count": 66,
   "metadata": {},
   "outputs": [
    {
     "data": {
      "text/plain": [
       "array([2018., 2017., 1997., 1998., 2016., 2006., 2005., 2003., 2007.,\n",
       "       2002., 2000., 1995., 1996., 1994., 2001., 1993., 2004., 2008.,\n",
       "       2009., 1999., 1992., 1989., 2010., 2011., 2013., 2012., 2014.,\n",
       "       1983., 1984., 2015., 1990., 1988., 1991., 1985., 1982., 1987.,\n",
       "       1981., 1986., 2021., 2019., 1975., 1970., 1980.])"
      ]
     },
     "execution_count": 66,
     "metadata": {},
     "output_type": "execute_result"
    }
   ],
   "source": [
    "df_steam_games['release_date'].unique()"
   ]
  },
  {
   "cell_type": "code",
   "execution_count": 67,
   "metadata": {},
   "outputs": [
    {
     "data": {
      "text/plain": [
       "28780"
      ]
     },
     "execution_count": 67,
     "metadata": {},
     "output_type": "execute_result"
    }
   ],
   "source": [
    "len(df_steam_games)"
   ]
  },
  {
   "cell_type": "markdown",
   "metadata": {},
   "source": [
    "## Trabajo con la columna genres"
   ]
  },
  {
   "cell_type": "code",
   "execution_count": 68,
   "metadata": {},
   "outputs": [
    {
     "data": {
      "text/plain": [
       "1203"
      ]
     },
     "execution_count": 68,
     "metadata": {},
     "output_type": "execute_result"
    }
   ],
   "source": [
    "df_steam_games['genres'].isna().sum()"
   ]
  },
  {
   "cell_type": "code",
   "execution_count": 69,
   "metadata": {},
   "outputs": [],
   "source": [
    "#df_steam_games[[\"genres\", \"tags\"]]\n",
    "df_steam_games['genres'].fillna(df_steam_games['tags'], inplace=True)"
   ]
  },
  {
   "cell_type": "code",
   "execution_count": 70,
   "metadata": {},
   "outputs": [
    {
     "data": {
      "text/plain": [
       "116"
      ]
     },
     "execution_count": 70,
     "metadata": {},
     "output_type": "execute_result"
    }
   ],
   "source": [
    "df_steam_games['genres'].isna().sum()"
   ]
  },
  {
   "cell_type": "code",
   "execution_count": 71,
   "metadata": {},
   "outputs": [],
   "source": [
    "df_steam_games.dropna(subset=\"genres\", inplace=True)"
   ]
  },
  {
   "cell_type": "code",
   "execution_count": 72,
   "metadata": {},
   "outputs": [
    {
     "data": {
      "text/plain": [
       "genres\n",
       "[Action]                                                                                                        1808\n",
       "[Action, Indie]                                                                                                 1572\n",
       "[Simulation]                                                                                                    1372\n",
       "[Casual, Simulation]                                                                                            1357\n",
       "[Strategy]                                                                                                      1020\n",
       "                                                                                                                ... \n",
       "[Casual, Indie, Sports, Strategy, Early Access]                                                                    1\n",
       "[Action, Free to Play, Simulation]                                                                                 1\n",
       "[Animation &amp; Modeling, Audio Production, Design &amp; Illustration, Software Training, Video Production]       1\n",
       "[Adventure, Casual, Indie, Racing, RPG, Simulation, Sports, Strategy]                                              1\n",
       "[Adventure, Casual, RPG, Simulation, Early Access]                                                                 1\n",
       "Name: count, Length: 1353, dtype: int64"
      ]
     },
     "execution_count": 72,
     "metadata": {},
     "output_type": "execute_result"
    }
   ],
   "source": [
    "df_steam_games['genres'].value_counts()"
   ]
  },
  {
   "cell_type": "code",
   "execution_count": 73,
   "metadata": {},
   "outputs": [
    {
     "data": {
      "text/plain": [
       "28664"
      ]
     },
     "execution_count": 73,
     "metadata": {},
     "output_type": "execute_result"
    }
   ],
   "source": [
    "len(df_steam_games)"
   ]
  },
  {
   "cell_type": "markdown",
   "metadata": {},
   "source": [
    "## Trabajo con la columna developer"
   ]
  },
  {
   "cell_type": "code",
   "execution_count": 74,
   "metadata": {},
   "outputs": [
    {
     "data": {
      "text/plain": [
       "1203"
      ]
     },
     "execution_count": 74,
     "metadata": {},
     "output_type": "execute_result"
    }
   ],
   "source": [
    "df_steam_games['developer'].isna().sum()\n"
   ]
  },
  {
   "cell_type": "code",
   "execution_count": 75,
   "metadata": {},
   "outputs": [],
   "source": [
    "df_steam_games['developer'].fillna(df_steam_games['publisher'], inplace=True)"
   ]
  },
  {
   "cell_type": "code",
   "execution_count": 76,
   "metadata": {},
   "outputs": [],
   "source": [
    "df_steam_games.dropna(subset=\"developer\", inplace=True)"
   ]
  },
  {
   "cell_type": "code",
   "execution_count": 77,
   "metadata": {},
   "outputs": [
    {
     "data": {
      "text/plain": [
       "27521"
      ]
     },
     "execution_count": 77,
     "metadata": {},
     "output_type": "execute_result"
    }
   ],
   "source": [
    "len(df_steam_games)"
   ]
  },
  {
   "cell_type": "code",
   "execution_count": 78,
   "metadata": {},
   "outputs": [],
   "source": [
    "df_steam_games[\"release_date\"] = df_steam_games[\"release_date\"].astype(int)\n"
   ]
  },
  {
   "cell_type": "code",
   "execution_count": 79,
   "metadata": {},
   "outputs": [
    {
     "data": {
      "text/html": [
       "<div>\n",
       "<style scoped>\n",
       "    .dataframe tbody tr th:only-of-type {\n",
       "        vertical-align: middle;\n",
       "    }\n",
       "\n",
       "    .dataframe tbody tr th {\n",
       "        vertical-align: top;\n",
       "    }\n",
       "\n",
       "    .dataframe thead th {\n",
       "        text-align: right;\n",
       "    }\n",
       "</style>\n",
       "<table border=\"1\" class=\"dataframe\">\n",
       "  <thead>\n",
       "    <tr style=\"text-align: right;\">\n",
       "      <th></th>\n",
       "      <th>publisher</th>\n",
       "      <th>genres</th>\n",
       "      <th>app_name</th>\n",
       "      <th>title</th>\n",
       "      <th>url</th>\n",
       "      <th>release_date</th>\n",
       "      <th>tags</th>\n",
       "      <th>reviews_url</th>\n",
       "      <th>specs</th>\n",
       "      <th>price</th>\n",
       "      <th>early_access</th>\n",
       "      <th>id</th>\n",
       "      <th>developer</th>\n",
       "    </tr>\n",
       "  </thead>\n",
       "  <tbody>\n",
       "    <tr>\n",
       "      <th>88310</th>\n",
       "      <td>Kotoshiro</td>\n",
       "      <td>[Action, Casual, Indie, Simulation, Strategy]</td>\n",
       "      <td>Lost Summoner Kitty</td>\n",
       "      <td>Lost Summoner Kitty</td>\n",
       "      <td>http://store.steampowered.com/app/761140/Lost_...</td>\n",
       "      <td>2018</td>\n",
       "      <td>[Strategy, Action, Indie, Casual, Simulation]</td>\n",
       "      <td>http://steamcommunity.com/app/761140/reviews/?...</td>\n",
       "      <td>[Single-player]</td>\n",
       "      <td>4.99</td>\n",
       "      <td>0.0</td>\n",
       "      <td>761140.0</td>\n",
       "      <td>Kotoshiro</td>\n",
       "    </tr>\n",
       "    <tr>\n",
       "      <th>88311</th>\n",
       "      <td>Making Fun, Inc.</td>\n",
       "      <td>[Free to Play, Indie, RPG, Strategy]</td>\n",
       "      <td>Ironbound</td>\n",
       "      <td>Ironbound</td>\n",
       "      <td>http://store.steampowered.com/app/643980/Ironb...</td>\n",
       "      <td>2018</td>\n",
       "      <td>[Free to Play, Strategy, Indie, RPG, Card Game...</td>\n",
       "      <td>http://steamcommunity.com/app/643980/reviews/?...</td>\n",
       "      <td>[Single-player, Multi-player, Online Multi-Pla...</td>\n",
       "      <td>0.00</td>\n",
       "      <td>0.0</td>\n",
       "      <td>643980.0</td>\n",
       "      <td>Secret Level SRL</td>\n",
       "    </tr>\n",
       "    <tr>\n",
       "      <th>88312</th>\n",
       "      <td>Poolians.com</td>\n",
       "      <td>[Casual, Free to Play, Indie, Simulation, Sports]</td>\n",
       "      <td>Real Pool 3D - Poolians</td>\n",
       "      <td>Real Pool 3D - Poolians</td>\n",
       "      <td>http://store.steampowered.com/app/670290/Real_...</td>\n",
       "      <td>2017</td>\n",
       "      <td>[Free to Play, Simulation, Sports, Casual, Ind...</td>\n",
       "      <td>http://steamcommunity.com/app/670290/reviews/?...</td>\n",
       "      <td>[Single-player, Multi-player, Online Multi-Pla...</td>\n",
       "      <td>0.00</td>\n",
       "      <td>0.0</td>\n",
       "      <td>670290.0</td>\n",
       "      <td>Poolians.com</td>\n",
       "    </tr>\n",
       "    <tr>\n",
       "      <th>88313</th>\n",
       "      <td>彼岸领域</td>\n",
       "      <td>[Action, Adventure, Casual]</td>\n",
       "      <td>弹炸人2222</td>\n",
       "      <td>弹炸人2222</td>\n",
       "      <td>http://store.steampowered.com/app/767400/2222/</td>\n",
       "      <td>2017</td>\n",
       "      <td>[Action, Adventure, Casual]</td>\n",
       "      <td>http://steamcommunity.com/app/767400/reviews/?...</td>\n",
       "      <td>[Single-player]</td>\n",
       "      <td>0.99</td>\n",
       "      <td>0.0</td>\n",
       "      <td>767400.0</td>\n",
       "      <td>彼岸领域</td>\n",
       "    </tr>\n",
       "    <tr>\n",
       "      <th>88315</th>\n",
       "      <td>Trickjump Games Ltd</td>\n",
       "      <td>[Action, Adventure, Simulation]</td>\n",
       "      <td>Battle Royale Trainer</td>\n",
       "      <td>Battle Royale Trainer</td>\n",
       "      <td>http://store.steampowered.com/app/772540/Battl...</td>\n",
       "      <td>2018</td>\n",
       "      <td>[Action, Adventure, Simulation, FPS, Shooter, ...</td>\n",
       "      <td>http://steamcommunity.com/app/772540/reviews/?...</td>\n",
       "      <td>[Single-player, Steam Achievements]</td>\n",
       "      <td>3.99</td>\n",
       "      <td>0.0</td>\n",
       "      <td>772540.0</td>\n",
       "      <td>Trickjump Games Ltd</td>\n",
       "    </tr>\n",
       "  </tbody>\n",
       "</table>\n",
       "</div>"
      ],
      "text/plain": [
       "                 publisher                                             genres  \\\n",
       "88310            Kotoshiro      [Action, Casual, Indie, Simulation, Strategy]   \n",
       "88311     Making Fun, Inc.               [Free to Play, Indie, RPG, Strategy]   \n",
       "88312         Poolians.com  [Casual, Free to Play, Indie, Simulation, Sports]   \n",
       "88313                 彼岸领域                        [Action, Adventure, Casual]   \n",
       "88315  Trickjump Games Ltd                    [Action, Adventure, Simulation]   \n",
       "\n",
       "                      app_name                    title  \\\n",
       "88310      Lost Summoner Kitty      Lost Summoner Kitty   \n",
       "88311                Ironbound                Ironbound   \n",
       "88312  Real Pool 3D - Poolians  Real Pool 3D - Poolians   \n",
       "88313                  弹炸人2222                  弹炸人2222   \n",
       "88315    Battle Royale Trainer    Battle Royale Trainer   \n",
       "\n",
       "                                                     url  release_date  \\\n",
       "88310  http://store.steampowered.com/app/761140/Lost_...          2018   \n",
       "88311  http://store.steampowered.com/app/643980/Ironb...          2018   \n",
       "88312  http://store.steampowered.com/app/670290/Real_...          2017   \n",
       "88313     http://store.steampowered.com/app/767400/2222/          2017   \n",
       "88315  http://store.steampowered.com/app/772540/Battl...          2018   \n",
       "\n",
       "                                                    tags  \\\n",
       "88310      [Strategy, Action, Indie, Casual, Simulation]   \n",
       "88311  [Free to Play, Strategy, Indie, RPG, Card Game...   \n",
       "88312  [Free to Play, Simulation, Sports, Casual, Ind...   \n",
       "88313                        [Action, Adventure, Casual]   \n",
       "88315  [Action, Adventure, Simulation, FPS, Shooter, ...   \n",
       "\n",
       "                                             reviews_url  \\\n",
       "88310  http://steamcommunity.com/app/761140/reviews/?...   \n",
       "88311  http://steamcommunity.com/app/643980/reviews/?...   \n",
       "88312  http://steamcommunity.com/app/670290/reviews/?...   \n",
       "88313  http://steamcommunity.com/app/767400/reviews/?...   \n",
       "88315  http://steamcommunity.com/app/772540/reviews/?...   \n",
       "\n",
       "                                                   specs  price  early_access  \\\n",
       "88310                                    [Single-player]   4.99           0.0   \n",
       "88311  [Single-player, Multi-player, Online Multi-Pla...   0.00           0.0   \n",
       "88312  [Single-player, Multi-player, Online Multi-Pla...   0.00           0.0   \n",
       "88313                                    [Single-player]   0.99           0.0   \n",
       "88315                [Single-player, Steam Achievements]   3.99           0.0   \n",
       "\n",
       "             id            developer  \n",
       "88310  761140.0            Kotoshiro  \n",
       "88311  643980.0     Secret Level SRL  \n",
       "88312  670290.0         Poolians.com  \n",
       "88313  767400.0                 彼岸领域  \n",
       "88315  772540.0  Trickjump Games Ltd  "
      ]
     },
     "execution_count": 79,
     "metadata": {},
     "output_type": "execute_result"
    }
   ],
   "source": [
    "df_steam_games.head()"
   ]
  },
  {
   "cell_type": "markdown",
   "metadata": {},
   "source": [
    "### Creo la nueva tabla ya limpia, con las columnas de interes"
   ]
  },
  {
   "cell_type": "code",
   "execution_count": 80,
   "metadata": {},
   "outputs": [],
   "source": [
    "df_steam_games_final = df_steam_games.drop([\"publisher\", \"app_name\", \"url\", \"tags\", \"reviews_url\", \"specs\", \"early_access\"], axis=1)"
   ]
  },
  {
   "cell_type": "code",
   "execution_count": 81,
   "metadata": {},
   "outputs": [
    {
     "name": "stdout",
     "output_type": "stream",
     "text": [
      "<class 'pandas.core.frame.DataFrame'>\n",
      "Index: 27521 entries, 88310 to 120443\n",
      "Data columns (total 6 columns):\n",
      " #   Column        Non-Null Count  Dtype  \n",
      "---  ------        --------------  -----  \n",
      " 0   genres        27521 non-null  object \n",
      " 1   title         27521 non-null  object \n",
      " 2   release_date  27521 non-null  int32  \n",
      " 3   price         27521 non-null  float64\n",
      " 4   id            27521 non-null  float64\n",
      " 5   developer     27521 non-null  object \n",
      "dtypes: float64(2), int32(1), object(3)\n",
      "memory usage: 1.4+ MB\n"
     ]
    }
   ],
   "source": [
    "df_steam_games_final.info()"
   ]
  },
  {
   "cell_type": "markdown",
   "metadata": {},
   "source": [
    "### Messi rve"
   ]
  },
  {
   "cell_type": "code",
   "execution_count": 82,
   "metadata": {},
   "outputs": [],
   "source": [
    "df_steam_games_final.to_csv('df_steam_games_clean.csv', sep=',' , index=False)\n",
    "#df = pd.read_csv('df_steam_games_clean.csv')\n",
    "#df = pd.read_csv('df_steam_games_clean.csv')"
   ]
  },
  {
   "cell_type": "code",
   "execution_count": 83,
   "metadata": {},
   "outputs": [],
   "source": [
    "df_steam_games_clean = pd.read_csv('df_steam_games_clean.csv')"
   ]
  },
  {
   "cell_type": "code",
   "execution_count": 84,
   "metadata": {},
   "outputs": [
    {
     "data": {
      "text/html": [
       "<div>\n",
       "<style scoped>\n",
       "    .dataframe tbody tr th:only-of-type {\n",
       "        vertical-align: middle;\n",
       "    }\n",
       "\n",
       "    .dataframe tbody tr th {\n",
       "        vertical-align: top;\n",
       "    }\n",
       "\n",
       "    .dataframe thead th {\n",
       "        text-align: right;\n",
       "    }\n",
       "</style>\n",
       "<table border=\"1\" class=\"dataframe\">\n",
       "  <thead>\n",
       "    <tr style=\"text-align: right;\">\n",
       "      <th></th>\n",
       "      <th>genres</th>\n",
       "      <th>title</th>\n",
       "      <th>release_date</th>\n",
       "      <th>price</th>\n",
       "      <th>id</th>\n",
       "      <th>developer</th>\n",
       "    </tr>\n",
       "  </thead>\n",
       "  <tbody>\n",
       "    <tr>\n",
       "      <th>0</th>\n",
       "      <td>['Action', 'Casual', 'Indie', 'Simulation', 'S...</td>\n",
       "      <td>Lost Summoner Kitty</td>\n",
       "      <td>2018</td>\n",
       "      <td>4.99</td>\n",
       "      <td>761140.0</td>\n",
       "      <td>Kotoshiro</td>\n",
       "    </tr>\n",
       "    <tr>\n",
       "      <th>1</th>\n",
       "      <td>['Free to Play', 'Indie', 'RPG', 'Strategy']</td>\n",
       "      <td>Ironbound</td>\n",
       "      <td>2018</td>\n",
       "      <td>0.00</td>\n",
       "      <td>643980.0</td>\n",
       "      <td>Secret Level SRL</td>\n",
       "    </tr>\n",
       "    <tr>\n",
       "      <th>2</th>\n",
       "      <td>['Casual', 'Free to Play', 'Indie', 'Simulatio...</td>\n",
       "      <td>Real Pool 3D - Poolians</td>\n",
       "      <td>2017</td>\n",
       "      <td>0.00</td>\n",
       "      <td>670290.0</td>\n",
       "      <td>Poolians.com</td>\n",
       "    </tr>\n",
       "    <tr>\n",
       "      <th>3</th>\n",
       "      <td>['Action', 'Adventure', 'Casual']</td>\n",
       "      <td>弹炸人2222</td>\n",
       "      <td>2017</td>\n",
       "      <td>0.99</td>\n",
       "      <td>767400.0</td>\n",
       "      <td>彼岸领域</td>\n",
       "    </tr>\n",
       "    <tr>\n",
       "      <th>4</th>\n",
       "      <td>['Action', 'Adventure', 'Simulation']</td>\n",
       "      <td>Battle Royale Trainer</td>\n",
       "      <td>2018</td>\n",
       "      <td>3.99</td>\n",
       "      <td>772540.0</td>\n",
       "      <td>Trickjump Games Ltd</td>\n",
       "    </tr>\n",
       "    <tr>\n",
       "      <th>...</th>\n",
       "      <td>...</td>\n",
       "      <td>...</td>\n",
       "      <td>...</td>\n",
       "      <td>...</td>\n",
       "      <td>...</td>\n",
       "      <td>...</td>\n",
       "    </tr>\n",
       "    <tr>\n",
       "      <th>27516</th>\n",
       "      <td>['Action', 'Adventure', 'Casual', 'Indie']</td>\n",
       "      <td>Kebab it Up!</td>\n",
       "      <td>2018</td>\n",
       "      <td>1.99</td>\n",
       "      <td>745400.0</td>\n",
       "      <td>Bidoniera Games</td>\n",
       "    </tr>\n",
       "    <tr>\n",
       "      <th>27517</th>\n",
       "      <td>['Casual', 'Indie', 'Simulation', 'Strategy']</td>\n",
       "      <td>Colony On Mars</td>\n",
       "      <td>2018</td>\n",
       "      <td>1.99</td>\n",
       "      <td>773640.0</td>\n",
       "      <td>Nikita \"Ghost_RUS\"</td>\n",
       "    </tr>\n",
       "    <tr>\n",
       "      <th>27518</th>\n",
       "      <td>['Casual', 'Indie', 'Strategy']</td>\n",
       "      <td>LOGistICAL: South Africa</td>\n",
       "      <td>2018</td>\n",
       "      <td>4.99</td>\n",
       "      <td>733530.0</td>\n",
       "      <td>Sacada</td>\n",
       "    </tr>\n",
       "    <tr>\n",
       "      <th>27519</th>\n",
       "      <td>['Indie', 'Racing', 'Simulation']</td>\n",
       "      <td>Russian Roads</td>\n",
       "      <td>2018</td>\n",
       "      <td>1.99</td>\n",
       "      <td>610660.0</td>\n",
       "      <td>Laush Dmitriy Sergeevich</td>\n",
       "    </tr>\n",
       "    <tr>\n",
       "      <th>27520</th>\n",
       "      <td>['Casual', 'Indie']</td>\n",
       "      <td>EXIT 2 - Directions</td>\n",
       "      <td>2017</td>\n",
       "      <td>4.99</td>\n",
       "      <td>658870.0</td>\n",
       "      <td>xropi,stev3ns</td>\n",
       "    </tr>\n",
       "  </tbody>\n",
       "</table>\n",
       "<p>27521 rows × 6 columns</p>\n",
       "</div>"
      ],
      "text/plain": [
       "                                                  genres  \\\n",
       "0      ['Action', 'Casual', 'Indie', 'Simulation', 'S...   \n",
       "1           ['Free to Play', 'Indie', 'RPG', 'Strategy']   \n",
       "2      ['Casual', 'Free to Play', 'Indie', 'Simulatio...   \n",
       "3                      ['Action', 'Adventure', 'Casual']   \n",
       "4                  ['Action', 'Adventure', 'Simulation']   \n",
       "...                                                  ...   \n",
       "27516         ['Action', 'Adventure', 'Casual', 'Indie']   \n",
       "27517      ['Casual', 'Indie', 'Simulation', 'Strategy']   \n",
       "27518                    ['Casual', 'Indie', 'Strategy']   \n",
       "27519                  ['Indie', 'Racing', 'Simulation']   \n",
       "27520                                ['Casual', 'Indie']   \n",
       "\n",
       "                          title  release_date  price        id  \\\n",
       "0           Lost Summoner Kitty          2018   4.99  761140.0   \n",
       "1                     Ironbound          2018   0.00  643980.0   \n",
       "2       Real Pool 3D - Poolians          2017   0.00  670290.0   \n",
       "3                       弹炸人2222          2017   0.99  767400.0   \n",
       "4         Battle Royale Trainer          2018   3.99  772540.0   \n",
       "...                         ...           ...    ...       ...   \n",
       "27516              Kebab it Up!          2018   1.99  745400.0   \n",
       "27517            Colony On Mars          2018   1.99  773640.0   \n",
       "27518  LOGistICAL: South Africa          2018   4.99  733530.0   \n",
       "27519             Russian Roads          2018   1.99  610660.0   \n",
       "27520       EXIT 2 - Directions          2017   4.99  658870.0   \n",
       "\n",
       "                      developer  \n",
       "0                     Kotoshiro  \n",
       "1              Secret Level SRL  \n",
       "2                  Poolians.com  \n",
       "3                          彼岸领域  \n",
       "4           Trickjump Games Ltd  \n",
       "...                         ...  \n",
       "27516           Bidoniera Games  \n",
       "27517        Nikita \"Ghost_RUS\"  \n",
       "27518                    Sacada  \n",
       "27519  Laush Dmitriy Sergeevich  \n",
       "27520             xropi,stev3ns  \n",
       "\n",
       "[27521 rows x 6 columns]"
      ]
     },
     "execution_count": 84,
     "metadata": {},
     "output_type": "execute_result"
    }
   ],
   "source": [
    "df_steam_games_clean"
   ]
  },
  {
   "cell_type": "code",
   "execution_count": 85,
   "metadata": {},
   "outputs": [],
   "source": [
    "df_steam_games_clean[\"release_date\"] = df_steam_games_clean[\"release_date\"].astype(int)"
   ]
  },
  {
   "cell_type": "code",
   "execution_count": 86,
   "metadata": {},
   "outputs": [
    {
     "data": {
      "text/html": [
       "<div>\n",
       "<style scoped>\n",
       "    .dataframe tbody tr th:only-of-type {\n",
       "        vertical-align: middle;\n",
       "    }\n",
       "\n",
       "    .dataframe tbody tr th {\n",
       "        vertical-align: top;\n",
       "    }\n",
       "\n",
       "    .dataframe thead th {\n",
       "        text-align: right;\n",
       "    }\n",
       "</style>\n",
       "<table border=\"1\" class=\"dataframe\">\n",
       "  <thead>\n",
       "    <tr style=\"text-align: right;\">\n",
       "      <th></th>\n",
       "      <th>genres</th>\n",
       "      <th>title</th>\n",
       "      <th>release_date</th>\n",
       "      <th>price</th>\n",
       "      <th>id</th>\n",
       "      <th>developer</th>\n",
       "    </tr>\n",
       "  </thead>\n",
       "  <tbody>\n",
       "    <tr>\n",
       "      <th>0</th>\n",
       "      <td>['Action', 'Casual', 'Indie', 'Simulation', 'S...</td>\n",
       "      <td>Lost Summoner Kitty</td>\n",
       "      <td>2018</td>\n",
       "      <td>4.99</td>\n",
       "      <td>761140.0</td>\n",
       "      <td>Kotoshiro</td>\n",
       "    </tr>\n",
       "    <tr>\n",
       "      <th>1</th>\n",
       "      <td>['Free to Play', 'Indie', 'RPG', 'Strategy']</td>\n",
       "      <td>Ironbound</td>\n",
       "      <td>2018</td>\n",
       "      <td>0.00</td>\n",
       "      <td>643980.0</td>\n",
       "      <td>Secret Level SRL</td>\n",
       "    </tr>\n",
       "    <tr>\n",
       "      <th>2</th>\n",
       "      <td>['Casual', 'Free to Play', 'Indie', 'Simulatio...</td>\n",
       "      <td>Real Pool 3D - Poolians</td>\n",
       "      <td>2017</td>\n",
       "      <td>0.00</td>\n",
       "      <td>670290.0</td>\n",
       "      <td>Poolians.com</td>\n",
       "    </tr>\n",
       "    <tr>\n",
       "      <th>3</th>\n",
       "      <td>['Action', 'Adventure', 'Casual']</td>\n",
       "      <td>弹炸人2222</td>\n",
       "      <td>2017</td>\n",
       "      <td>0.99</td>\n",
       "      <td>767400.0</td>\n",
       "      <td>彼岸领域</td>\n",
       "    </tr>\n",
       "    <tr>\n",
       "      <th>4</th>\n",
       "      <td>['Action', 'Adventure', 'Simulation']</td>\n",
       "      <td>Battle Royale Trainer</td>\n",
       "      <td>2018</td>\n",
       "      <td>3.99</td>\n",
       "      <td>772540.0</td>\n",
       "      <td>Trickjump Games Ltd</td>\n",
       "    </tr>\n",
       "    <tr>\n",
       "      <th>...</th>\n",
       "      <td>...</td>\n",
       "      <td>...</td>\n",
       "      <td>...</td>\n",
       "      <td>...</td>\n",
       "      <td>...</td>\n",
       "      <td>...</td>\n",
       "    </tr>\n",
       "    <tr>\n",
       "      <th>27516</th>\n",
       "      <td>['Action', 'Adventure', 'Casual', 'Indie']</td>\n",
       "      <td>Kebab it Up!</td>\n",
       "      <td>2018</td>\n",
       "      <td>1.99</td>\n",
       "      <td>745400.0</td>\n",
       "      <td>Bidoniera Games</td>\n",
       "    </tr>\n",
       "    <tr>\n",
       "      <th>27517</th>\n",
       "      <td>['Casual', 'Indie', 'Simulation', 'Strategy']</td>\n",
       "      <td>Colony On Mars</td>\n",
       "      <td>2018</td>\n",
       "      <td>1.99</td>\n",
       "      <td>773640.0</td>\n",
       "      <td>Nikita \"Ghost_RUS\"</td>\n",
       "    </tr>\n",
       "    <tr>\n",
       "      <th>27518</th>\n",
       "      <td>['Casual', 'Indie', 'Strategy']</td>\n",
       "      <td>LOGistICAL: South Africa</td>\n",
       "      <td>2018</td>\n",
       "      <td>4.99</td>\n",
       "      <td>733530.0</td>\n",
       "      <td>Sacada</td>\n",
       "    </tr>\n",
       "    <tr>\n",
       "      <th>27519</th>\n",
       "      <td>['Indie', 'Racing', 'Simulation']</td>\n",
       "      <td>Russian Roads</td>\n",
       "      <td>2018</td>\n",
       "      <td>1.99</td>\n",
       "      <td>610660.0</td>\n",
       "      <td>Laush Dmitriy Sergeevich</td>\n",
       "    </tr>\n",
       "    <tr>\n",
       "      <th>27520</th>\n",
       "      <td>['Casual', 'Indie']</td>\n",
       "      <td>EXIT 2 - Directions</td>\n",
       "      <td>2017</td>\n",
       "      <td>4.99</td>\n",
       "      <td>658870.0</td>\n",
       "      <td>xropi,stev3ns</td>\n",
       "    </tr>\n",
       "  </tbody>\n",
       "</table>\n",
       "<p>27521 rows × 6 columns</p>\n",
       "</div>"
      ],
      "text/plain": [
       "                                                  genres  \\\n",
       "0      ['Action', 'Casual', 'Indie', 'Simulation', 'S...   \n",
       "1           ['Free to Play', 'Indie', 'RPG', 'Strategy']   \n",
       "2      ['Casual', 'Free to Play', 'Indie', 'Simulatio...   \n",
       "3                      ['Action', 'Adventure', 'Casual']   \n",
       "4                  ['Action', 'Adventure', 'Simulation']   \n",
       "...                                                  ...   \n",
       "27516         ['Action', 'Adventure', 'Casual', 'Indie']   \n",
       "27517      ['Casual', 'Indie', 'Simulation', 'Strategy']   \n",
       "27518                    ['Casual', 'Indie', 'Strategy']   \n",
       "27519                  ['Indie', 'Racing', 'Simulation']   \n",
       "27520                                ['Casual', 'Indie']   \n",
       "\n",
       "                          title  release_date  price        id  \\\n",
       "0           Lost Summoner Kitty          2018   4.99  761140.0   \n",
       "1                     Ironbound          2018   0.00  643980.0   \n",
       "2       Real Pool 3D - Poolians          2017   0.00  670290.0   \n",
       "3                       弹炸人2222          2017   0.99  767400.0   \n",
       "4         Battle Royale Trainer          2018   3.99  772540.0   \n",
       "...                         ...           ...    ...       ...   \n",
       "27516              Kebab it Up!          2018   1.99  745400.0   \n",
       "27517            Colony On Mars          2018   1.99  773640.0   \n",
       "27518  LOGistICAL: South Africa          2018   4.99  733530.0   \n",
       "27519             Russian Roads          2018   1.99  610660.0   \n",
       "27520       EXIT 2 - Directions          2017   4.99  658870.0   \n",
       "\n",
       "                      developer  \n",
       "0                     Kotoshiro  \n",
       "1              Secret Level SRL  \n",
       "2                  Poolians.com  \n",
       "3                          彼岸领域  \n",
       "4           Trickjump Games Ltd  \n",
       "...                         ...  \n",
       "27516           Bidoniera Games  \n",
       "27517        Nikita \"Ghost_RUS\"  \n",
       "27518                    Sacada  \n",
       "27519  Laush Dmitriy Sergeevich  \n",
       "27520             xropi,stev3ns  \n",
       "\n",
       "[27521 rows x 6 columns]"
      ]
     },
     "execution_count": 86,
     "metadata": {},
     "output_type": "execute_result"
    }
   ],
   "source": [
    "df_steam_games_clean"
   ]
  },
  {
   "cell_type": "markdown",
   "metadata": {},
   "source": [
    "for i in range(0, len(df_steam_games[\"genres\"])):\n",
    "    if df_steam_games[\"genres\"].iloc[i] != None:\n",
    "        for j in df_steam_games[\"genres\"].iloc[i]:\n",
    "            if \"Free\" in j:\n",
    "                print(df_steam_games[\"genres\"].iloc[i])\n",
    "                print(df_steam_games[\"price\"].iloc[i])\n",
    "                print(df_steam_games[\"url\"].iloc[i])\n",
    "                print(\"-\" * 50) "
   ]
  },
  {
   "cell_type": "code",
   "execution_count": 87,
   "metadata": {},
   "outputs": [],
   "source": [
    "\n",
    "\n",
    "#df_steam_games[\"release_date\"].isna().sum()\n",
    "#print(final_df[final_df.isnull().any(axis=1)])\n",
    "#final_df[final_df[\"title\"].isnull()]\n",
    "\n",
    "#final_df.loc[\n",
    "  #  final_df['title'] == 'Batman: Arkham City - Game of the Year Edition', 'id'\n",
    "  #  ] = final_df['url'].apply(lambda x: x[-6:])\n",
    "\n",
    "#linea = final_df.loc[88310]\n",
    "#linea\n",
    "#final_df[\"title\"].isna().sum()\n",
    "\n",
    "#final_df[(final_df['title'].isna()) & (final_df['app_name'].isna())]\n",
    "\n",
    "#df_steam_games.dropna(subset=\"price\", inplace=True)\n",
    "\n",
    "#df_steam_games['genres'].apply(print)\n"
   ]
  },
  {
   "cell_type": "markdown",
   "metadata": {},
   "source": [
    "import json\n",
    "import gzip\n",
    "import pandas as pd\n",
    "import numpy as np\n",
    "\n",
    "compressed_file = 'Datasets/output_steam_games.json'\n",
    "\n",
    "\n",
    "with gzip.open(compressed_file, 'rb') as f:\n",
    "    data = f.read()\n",
    "\n",
    "\n",
    "json_str = data.decode('utf-8')\n",
    "data_list = json_str.strip().split('\\n')\n",
    "\n",
    "\n",
    "dfs = []\n",
    "for item in data_list:\n",
    "    data_dict = json.loads(item)\n",
    "    df = pd.DataFrame([data_dict])\n",
    "    dfs.append(df)\n",
    "\n",
    "\n",
    "final_df = pd.concat(dfs, ignore_index=True)"
   ]
  }
 ],
 "metadata": {
  "kernelspec": {
   "display_name": "Python 3",
   "language": "python",
   "name": "python3"
  },
  "language_info": {
   "codemirror_mode": {
    "name": "ipython",
    "version": 3
   },
   "file_extension": ".py",
   "mimetype": "text/x-python",
   "name": "python",
   "nbconvert_exporter": "python",
   "pygments_lexer": "ipython3",
   "version": "3.11.3"
  }
 },
 "nbformat": 4,
 "nbformat_minor": 2
}
