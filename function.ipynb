{
 "cells": [
  {
   "cell_type": "markdown",
   "metadata": {},
   "source": [
    "### Cargo los archivos que necesito"
   ]
  },
  {
   "cell_type": "code",
   "execution_count": 1,
   "metadata": {},
   "outputs": [],
   "source": [
    "import pandas as pd\n",
    "import numpy as np"
   ]
  },
  {
   "cell_type": "code",
   "execution_count": 2,
   "metadata": {},
   "outputs": [],
   "source": [
    "df_steam_games_clean = pd.read_csv('df_steam_games_clean.csv')\n",
    "df_user_reviews_clean = pd.read_csv('df_user_reviews_clean.csv')\n",
    "df_user_items_clean = pd.read_csv('df_user_items_clean.csv')"
   ]
  },
  {
   "cell_type": "code",
   "execution_count": 80,
   "metadata": {},
   "outputs": [
    {
     "data": {
      "text/html": [
       "<div>\n",
       "<style scoped>\n",
       "    .dataframe tbody tr th:only-of-type {\n",
       "        vertical-align: middle;\n",
       "    }\n",
       "\n",
       "    .dataframe tbody tr th {\n",
       "        vertical-align: top;\n",
       "    }\n",
       "\n",
       "    .dataframe thead th {\n",
       "        text-align: right;\n",
       "    }\n",
       "</style>\n",
       "<table border=\"1\" class=\"dataframe\">\n",
       "  <thead>\n",
       "    <tr style=\"text-align: right;\">\n",
       "      <th></th>\n",
       "      <th>genres</th>\n",
       "      <th>title</th>\n",
       "      <th>release_date</th>\n",
       "      <th>price</th>\n",
       "      <th>id</th>\n",
       "      <th>developer</th>\n",
       "    </tr>\n",
       "  </thead>\n",
       "  <tbody>\n",
       "    <tr>\n",
       "      <th>0</th>\n",
       "      <td>['Action', 'Casual', 'Indie', 'Simulation', 'S...</td>\n",
       "      <td>Lost Summoner Kitty</td>\n",
       "      <td>2018</td>\n",
       "      <td>4.99</td>\n",
       "      <td>761140.0</td>\n",
       "      <td>Kotoshiro</td>\n",
       "    </tr>\n",
       "    <tr>\n",
       "      <th>1</th>\n",
       "      <td>['Free to Play', 'Indie', 'RPG', 'Strategy']</td>\n",
       "      <td>Ironbound</td>\n",
       "      <td>2018</td>\n",
       "      <td>0.00</td>\n",
       "      <td>643980.0</td>\n",
       "      <td>Secret Level SRL</td>\n",
       "    </tr>\n",
       "    <tr>\n",
       "      <th>2</th>\n",
       "      <td>['Casual', 'Free to Play', 'Indie', 'Simulatio...</td>\n",
       "      <td>Real Pool 3D - Poolians</td>\n",
       "      <td>2017</td>\n",
       "      <td>0.00</td>\n",
       "      <td>670290.0</td>\n",
       "      <td>Poolians.com</td>\n",
       "    </tr>\n",
       "    <tr>\n",
       "      <th>3</th>\n",
       "      <td>['Action', 'Adventure', 'Casual']</td>\n",
       "      <td>弹炸人2222</td>\n",
       "      <td>2017</td>\n",
       "      <td>0.99</td>\n",
       "      <td>767400.0</td>\n",
       "      <td>彼岸领域</td>\n",
       "    </tr>\n",
       "    <tr>\n",
       "      <th>4</th>\n",
       "      <td>['Action', 'Adventure', 'Simulation']</td>\n",
       "      <td>Battle Royale Trainer</td>\n",
       "      <td>2018</td>\n",
       "      <td>3.99</td>\n",
       "      <td>772540.0</td>\n",
       "      <td>Trickjump Games Ltd</td>\n",
       "    </tr>\n",
       "  </tbody>\n",
       "</table>\n",
       "</div>"
      ],
      "text/plain": [
       "                                              genres                    title  \\\n",
       "0  ['Action', 'Casual', 'Indie', 'Simulation', 'S...      Lost Summoner Kitty   \n",
       "1       ['Free to Play', 'Indie', 'RPG', 'Strategy']                Ironbound   \n",
       "2  ['Casual', 'Free to Play', 'Indie', 'Simulatio...  Real Pool 3D - Poolians   \n",
       "3                  ['Action', 'Adventure', 'Casual']                  弹炸人2222   \n",
       "4              ['Action', 'Adventure', 'Simulation']    Battle Royale Trainer   \n",
       "\n",
       "   release_date  price        id            developer  \n",
       "0          2018   4.99  761140.0            Kotoshiro  \n",
       "1          2018   0.00  643980.0     Secret Level SRL  \n",
       "2          2017   0.00  670290.0         Poolians.com  \n",
       "3          2017   0.99  767400.0                 彼岸领域  \n",
       "4          2018   3.99  772540.0  Trickjump Games Ltd  "
      ]
     },
     "execution_count": 80,
     "metadata": {},
     "output_type": "execute_result"
    }
   ],
   "source": [
    "df_steam_games_clean.head()"
   ]
  },
  {
   "cell_type": "code",
   "execution_count": 81,
   "metadata": {},
   "outputs": [
    {
     "name": "stdout",
     "output_type": "stream",
     "text": [
      "<class 'pandas.core.series.Series'>\n",
      "RangeIndex: 27521 entries, 0 to 27520\n",
      "Series name: price\n",
      "Non-Null Count  Dtype  \n",
      "--------------  -----  \n",
      "27521 non-null  float64\n",
      "dtypes: float64(1)\n",
      "memory usage: 215.1 KB\n"
     ]
    }
   ],
   "source": [
    "df_steam_games_clean[\"price\"].info()"
   ]
  },
  {
   "cell_type": "code",
   "execution_count": 82,
   "metadata": {},
   "outputs": [
    {
     "data": {
      "text/html": [
       "<div>\n",
       "<style scoped>\n",
       "    .dataframe tbody tr th:only-of-type {\n",
       "        vertical-align: middle;\n",
       "    }\n",
       "\n",
       "    .dataframe tbody tr th {\n",
       "        vertical-align: top;\n",
       "    }\n",
       "\n",
       "    .dataframe thead th {\n",
       "        text-align: right;\n",
       "    }\n",
       "</style>\n",
       "<table border=\"1\" class=\"dataframe\">\n",
       "  <thead>\n",
       "    <tr style=\"text-align: right;\">\n",
       "      <th></th>\n",
       "      <th>user_id</th>\n",
       "      <th>item_id</th>\n",
       "      <th>recommend</th>\n",
       "      <th>sentiment_analysis</th>\n",
       "    </tr>\n",
       "  </thead>\n",
       "  <tbody>\n",
       "    <tr>\n",
       "      <th>0</th>\n",
       "      <td>76561197970982479</td>\n",
       "      <td>1250</td>\n",
       "      <td>True</td>\n",
       "      <td>2</td>\n",
       "    </tr>\n",
       "    <tr>\n",
       "      <th>1</th>\n",
       "      <td>76561197970982479</td>\n",
       "      <td>22200</td>\n",
       "      <td>True</td>\n",
       "      <td>2</td>\n",
       "    </tr>\n",
       "    <tr>\n",
       "      <th>2</th>\n",
       "      <td>76561197970982479</td>\n",
       "      <td>43110</td>\n",
       "      <td>True</td>\n",
       "      <td>2</td>\n",
       "    </tr>\n",
       "    <tr>\n",
       "      <th>3</th>\n",
       "      <td>js41637</td>\n",
       "      <td>251610</td>\n",
       "      <td>True</td>\n",
       "      <td>2</td>\n",
       "    </tr>\n",
       "    <tr>\n",
       "      <th>4</th>\n",
       "      <td>js41637</td>\n",
       "      <td>227300</td>\n",
       "      <td>True</td>\n",
       "      <td>2</td>\n",
       "    </tr>\n",
       "  </tbody>\n",
       "</table>\n",
       "</div>"
      ],
      "text/plain": [
       "             user_id  item_id  recommend  sentiment_analysis\n",
       "0  76561197970982479     1250       True                   2\n",
       "1  76561197970982479    22200       True                   2\n",
       "2  76561197970982479    43110       True                   2\n",
       "3            js41637   251610       True                   2\n",
       "4            js41637   227300       True                   2"
      ]
     },
     "execution_count": 82,
     "metadata": {},
     "output_type": "execute_result"
    }
   ],
   "source": [
    "df_user_reviews_clean.head()"
   ]
  },
  {
   "cell_type": "code",
   "execution_count": 83,
   "metadata": {},
   "outputs": [
    {
     "data": {
      "text/html": [
       "<div>\n",
       "<style scoped>\n",
       "    .dataframe tbody tr th:only-of-type {\n",
       "        vertical-align: middle;\n",
       "    }\n",
       "\n",
       "    .dataframe tbody tr th {\n",
       "        vertical-align: top;\n",
       "    }\n",
       "\n",
       "    .dataframe thead th {\n",
       "        text-align: right;\n",
       "    }\n",
       "</style>\n",
       "<table border=\"1\" class=\"dataframe\">\n",
       "  <thead>\n",
       "    <tr style=\"text-align: right;\">\n",
       "      <th></th>\n",
       "      <th>user_id</th>\n",
       "      <th>item_id</th>\n",
       "      <th>recommend</th>\n",
       "      <th>sentiment_analysis</th>\n",
       "    </tr>\n",
       "  </thead>\n",
       "  <tbody>\n",
       "  </tbody>\n",
       "</table>\n",
       "</div>"
      ],
      "text/plain": [
       "Empty DataFrame\n",
       "Columns: [user_id, item_id, recommend, sentiment_analysis]\n",
       "Index: []"
      ]
     },
     "execution_count": 83,
     "metadata": {},
     "output_type": "execute_result"
    }
   ],
   "source": [
    "df_user_reviews_clean[df_user_reviews_clean[\"item_id\"] == \"772540\"]"
   ]
  },
  {
   "cell_type": "code",
   "execution_count": 84,
   "metadata": {},
   "outputs": [
    {
     "data": {
      "text/html": [
       "<div>\n",
       "<style scoped>\n",
       "    .dataframe tbody tr th:only-of-type {\n",
       "        vertical-align: middle;\n",
       "    }\n",
       "\n",
       "    .dataframe tbody tr th {\n",
       "        vertical-align: top;\n",
       "    }\n",
       "\n",
       "    .dataframe thead th {\n",
       "        text-align: right;\n",
       "    }\n",
       "</style>\n",
       "<table border=\"1\" class=\"dataframe\">\n",
       "  <thead>\n",
       "    <tr style=\"text-align: right;\">\n",
       "      <th></th>\n",
       "      <th>user_id</th>\n",
       "      <th>items_count</th>\n",
       "      <th>items</th>\n",
       "    </tr>\n",
       "  </thead>\n",
       "  <tbody>\n",
       "    <tr>\n",
       "      <th>0</th>\n",
       "      <td>76561197970982479</td>\n",
       "      <td>277</td>\n",
       "      <td>[{'item_id': '10', 'item_name': 'Counter-Strik...</td>\n",
       "    </tr>\n",
       "    <tr>\n",
       "      <th>1</th>\n",
       "      <td>js41637</td>\n",
       "      <td>888</td>\n",
       "      <td>[{'item_id': '10', 'item_name': 'Counter-Strik...</td>\n",
       "    </tr>\n",
       "    <tr>\n",
       "      <th>2</th>\n",
       "      <td>evcentric</td>\n",
       "      <td>137</td>\n",
       "      <td>[{'item_id': '1200', 'item_name': 'Red Orchest...</td>\n",
       "    </tr>\n",
       "    <tr>\n",
       "      <th>3</th>\n",
       "      <td>Riot-Punch</td>\n",
       "      <td>328</td>\n",
       "      <td>[{'item_id': '10', 'item_name': 'Counter-Strik...</td>\n",
       "    </tr>\n",
       "    <tr>\n",
       "      <th>4</th>\n",
       "      <td>doctr</td>\n",
       "      <td>541</td>\n",
       "      <td>[{'item_id': '300', 'item_name': 'Day of Defea...</td>\n",
       "    </tr>\n",
       "  </tbody>\n",
       "</table>\n",
       "</div>"
      ],
      "text/plain": [
       "             user_id  items_count  \\\n",
       "0  76561197970982479          277   \n",
       "1            js41637          888   \n",
       "2          evcentric          137   \n",
       "3         Riot-Punch          328   \n",
       "4              doctr          541   \n",
       "\n",
       "                                               items  \n",
       "0  [{'item_id': '10', 'item_name': 'Counter-Strik...  \n",
       "1  [{'item_id': '10', 'item_name': 'Counter-Strik...  \n",
       "2  [{'item_id': '1200', 'item_name': 'Red Orchest...  \n",
       "3  [{'item_id': '10', 'item_name': 'Counter-Strik...  \n",
       "4  [{'item_id': '300', 'item_name': 'Day of Defea...  "
      ]
     },
     "execution_count": 84,
     "metadata": {},
     "output_type": "execute_result"
    }
   ],
   "source": [
    "df_user_items_clean.head()"
   ]
  },
  {
   "cell_type": "markdown",
   "metadata": {},
   "source": [
    "#### def developer( desarrollador : str ): Cantidad de items y porcentaje de contenido Free por año según empresa desarrolladora."
   ]
  },
  {
   "cell_type": "code",
   "execution_count": 85,
   "metadata": {},
   "outputs": [],
   "source": [
    "#df_steam_games_clean = pd.read_csv('df_steam_games_clean.csv', usecols=[\"release_date\", \"developer\", \"price\"])\n"
   ]
  },
  {
   "cell_type": "code",
   "execution_count": 86,
   "metadata": {},
   "outputs": [],
   "source": [
    "# def developer(desarrollador: str):\n",
    "\n",
    "#     df_games_developer = df_steam_games_clean[(df_steam_games_clean['developer'] == desarrollador)]\n",
    "\n",
    "#     df_free_games = df_games_developer[(df_games_developer['price'] == 0.00 )]\n",
    "\n",
    "#     df_agrupacion = df_games_developer.groupby('release_date').count()\n",
    "\n",
    "#     df_agrupacion= df_agrupacion.reset_index()\n",
    "\n",
    "#     df_result = pd.DataFrame(columns=[\"Año\", \"Cantidad de items\", \"Contenido free\"])\n",
    "\n",
    "#     df_result[\"Año\"] = df_agrupacion[\"release_date\"]\n",
    "\n",
    "#     df_result[\"Cantidad de items\"] = df_agrupacion[\"developer\"]\n",
    "\n",
    "\n",
    "#     for year in df_result[\"Año\"]:\n",
    "    \n",
    "#         try:\n",
    "#             free_content = df_free_games.groupby('release_date').groups[year].shape[0]\n",
    "        \n",
    "#             total_content = df_games_developer.groupby('release_date').groups[year].shape[0]\n",
    "        \n",
    "            \n",
    "#             df_result.loc[df_result[\"Año\"] == year, \"Contenido free\"] = f\"{round(free_content / total_content * 100, 2)}%\"\n",
    "#         except:\n",
    "#             df_result.loc[df_result[\"Año\"] == year, \"Contenido free\"] = \"0%\"\n",
    "\n",
    "\n",
    "#     return df_result\n"
   ]
  },
  {
   "cell_type": "code",
   "execution_count": null,
   "metadata": {},
   "outputs": [],
   "source": [
    "# l = developer(\"Dovetail Games\")\n",
    "# print(l)"
   ]
  },
  {
   "cell_type": "markdown",
   "metadata": {},
   "source": [
    "### def userdata(`User_id`: str): Debe devolver `cantidad` de dinero gastado por el usuario, el `porcentaje` de recomendación en base a reviews.recommend y `cantidad de items`."
   ]
  },
  {
   "cell_type": "code",
   "execution_count": 88,
   "metadata": {},
   "outputs": [],
   "source": [
    "# def userdata(id_usuario : str):\n",
    "    \n",
    "#     df_steam_games_clean = pd.read_csv('df_steam_games_clean.csv', usecols=[\"id\", \"price\"])\n",
    "#     df_user_reviews_clean = pd.read_csv('df_user_reviews_clean.csv', usecols=[\"user_id\", \"recommend\"])\n",
    "#     df_user_items_clean = pd.read_csv('df_user_items_clean.csv', usecols=[\"user_id\", \"items_count\"])\n",
    "\n",
    "\n",
    "#     df_user = pd.merge(df_user_reviews_clean, df_user_items_clean, on=['user_id'], how='inner')\n",
    "\n",
    "#     # Unir los dataframes df_user y df_steam_games_clean en la columna 'id'\n",
    "#     #df_user_games = pd.merge(df_user, df_steam_games_clean, left_on='item_id', right_on='id', how='inner')\n",
    "\n",
    "#     # Eliminar las columnas innecesarias\n",
    "#     #df_user_games.drop(['id', 'user_id'], axis=1, inplace=True)\n",
    "\n",
    "#     # Calcular el número total de elementos\n",
    "#     #total_items = df_user_games['item_id'].nunique()\n",
    "\n",
    "#     # Calcular el gasto total del usuario\n",
    "#     #total_money_spent = df_user_games['price'].sum()\n",
    "#     items_count = df_user_items_clean.loc[df_user_items_clean['user_id'] == id_usuario, 'items_count'].values[0]\n",
    "\n",
    "#     return items_count\n"
   ]
  },
  {
   "cell_type": "code",
   "execution_count": 89,
   "metadata": {},
   "outputs": [],
   "source": [
    "#m = userdata(\"Riot-Punch\")\n",
    "#print(m)"
   ]
  },
  {
   "cell_type": "code",
   "execution_count": 3,
   "metadata": {},
   "outputs": [],
   "source": [
    "# def user_data(usuario: str):\n",
    "\n",
    "#     df_steam_games_clean = pd.read_csv('df_steam_games_clean.csv', usecols=[\"id\", \"price\"])\n",
    "#     df_user_reviews_clean = pd.read_csv('df_user_reviews_clean.csv', usecols=[\"user_id\", \"recommend\"])\n",
    "#     df_user_items_clean = pd.read_csv('df_user_items_clean.csv', usecols=[\"user_id\", \"items_count\", \"items\"])\n",
    "    \n",
    "    \n",
    "#     if usuario not in df_user_items_clean['user_id'].unique():\n",
    "#         return {'Error': 'No existe el usuario.'}\n",
    "\n",
    "#     df_user_items_clean = df_user_items_clean[df_user_items_clean['user_id'] == usuario]\n",
    "#     df_steam_games_clean = df_steam_games_clean[['id', 'price']]\n",
    "#     df_user_reviews_clean = df_user_reviews_clean[df_user_reviews_clean['user_id'] == usuario]['recommend']\n",
    "\n",
    "#     cant_items = df_user_items_clean['items_count'].iloc[0]\n",
    "#     df_user_reviews_clean_positivas = df_user_reviews_clean.value_counts()[True]\n",
    "#     porcentaje_de_df_user_reviews_clean = f'{(round((df_user_reviews_clean_positivas / df_user_reviews_clean.shape[0]) * 100, 2))}%'\n",
    "\n",
    "#     df_user_items_clean = df_user_items_clean.explode(\"items\")\n",
    "#     df_user_items_clean = df_user_items_clean['items'].apply(pd.Series)\n",
    "#     df_user_items_clean['item_id'] = df_user_items_clean['item_id'].astype(int)\n",
    "\n",
    "#     df_steam_games_clean = df_steam_games_clean.merge(df_user_items_clean, left_on=\"id\", right_on=\"item_id\")\n",
    "#     gasto_total = f\"{round(df_steam_games_clean['price'].sum(), 2)} USD\"\n",
    "\n",
    "#     return {\"Usuario\": f\"{usuario}\", \"Dinero gastado\": gasto_total, \"% de recomendación\": f'{porcentaje_de_df_user_reviews_clean}', \"cantidad de items\": f'{cant_items}'}\n"
   ]
  },
  {
   "cell_type": "code",
   "execution_count": null,
   "metadata": {},
   "outputs": [],
   "source": [
    "# m = user_data(\"js41637\")\n",
    "# m"
   ]
  },
  {
   "cell_type": "code",
   "execution_count": 3,
   "metadata": {},
   "outputs": [],
   "source": [
    "#df_user_items_clean = pd.read_csv('df_user_items_clean.csv', usecols=[\"user_id\", \"items_count\", \"items\"])"
   ]
  },
  {
   "cell_type": "code",
   "execution_count": 4,
   "metadata": {},
   "outputs": [],
   "source": [
    "# m = df_user_items_clean.explode(\"items\")\n",
    "# m = df_user_items_clean[\"items\"].apply(pd.Series)"
   ]
  }
 ],
 "metadata": {
  "kernelspec": {
   "display_name": "Python 3",
   "language": "python",
   "name": "python3"
  },
  "language_info": {
   "codemirror_mode": {
    "name": "ipython",
    "version": 3
   },
   "file_extension": ".py",
   "mimetype": "text/x-python",
   "name": "python",
   "nbconvert_exporter": "python",
   "pygments_lexer": "ipython3",
   "version": "3.11.3"
  }
 },
 "nbformat": 4,
 "nbformat_minor": 2
}
