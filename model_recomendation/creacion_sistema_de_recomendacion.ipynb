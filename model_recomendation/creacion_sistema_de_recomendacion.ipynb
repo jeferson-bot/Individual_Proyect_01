{
 "cells": [
  {
   "cell_type": "code",
   "execution_count": 15,
   "metadata": {},
   "outputs": [],
   "source": [
    "import numpy as np\n",
    "import pandas as pd\n",
    "import gc\n",
    "import sys\n",
    "from surprise import Dataset\n",
    "from sklearn.preprocessing import MinMaxScaler\n",
    "from surprise import SVD\n",
    "from surprise import Reader\n",
    "from surprise.model_selection import train_test_split "
   ]
  },
  {
   "cell_type": "code",
   "execution_count": 17,
   "metadata": {},
   "outputs": [],
   "source": [
    "df_steam_games = pd.read_csv('../datasets/df_steam_games_clean.csv')\n",
    "df_user_reviews = pd.read_csv('../datasets/df_user_reviews_clean.csv')\n",
    "df_user_items = pd.read_csv('../datasets/df_user_items_clean.csv.gz',compression='gzip')"
   ]
  },
  {
   "cell_type": "code",
   "execution_count": 22,
   "metadata": {},
   "outputs": [],
   "source": [
    "df_user_reviews.to_csv(\"user_reviews_ur.csv\", index=False)"
   ]
  },
  {
   "cell_type": "code",
   "execution_count": 24,
   "metadata": {},
   "outputs": [],
   "source": [
    "merged_df = df_steam_games.merge(df_user_reviews, left_on='id', right_on='item_id', how='inner')"
   ]
  },
  {
   "cell_type": "code",
   "execution_count": 13,
   "metadata": {},
   "outputs": [],
   "source": [
    "df_user_reviews = merged_df"
   ]
  },
  {
   "cell_type": "code",
   "execution_count": 25,
   "metadata": {},
   "outputs": [
    {
     "data": {
      "text/html": [
       "<div>\n",
       "<style scoped>\n",
       "    .dataframe tbody tr th:only-of-type {\n",
       "        vertical-align: middle;\n",
       "    }\n",
       "\n",
       "    .dataframe tbody tr th {\n",
       "        vertical-align: top;\n",
       "    }\n",
       "\n",
       "    .dataframe thead th {\n",
       "        text-align: right;\n",
       "    }\n",
       "</style>\n",
       "<table border=\"1\" class=\"dataframe\">\n",
       "  <thead>\n",
       "    <tr style=\"text-align: right;\">\n",
       "      <th></th>\n",
       "      <th>genres</th>\n",
       "      <th>title</th>\n",
       "      <th>release_date</th>\n",
       "      <th>price</th>\n",
       "      <th>id</th>\n",
       "      <th>developer</th>\n",
       "      <th>user_id</th>\n",
       "      <th>item_id</th>\n",
       "      <th>recommend</th>\n",
       "      <th>sentiment_analysis</th>\n",
       "      <th>rating</th>\n",
       "    </tr>\n",
       "  </thead>\n",
       "  <tbody>\n",
       "    <tr>\n",
       "      <th>0</th>\n",
       "      <td>['Action', 'Indie', 'Racing']</td>\n",
       "      <td>Carmageddon Max Pack</td>\n",
       "      <td>1997</td>\n",
       "      <td>9.99</td>\n",
       "      <td>282010.0</td>\n",
       "      <td>Stainless Games Ltd</td>\n",
       "      <td>InstigatorAU</td>\n",
       "      <td>282010</td>\n",
       "      <td>1.0</td>\n",
       "      <td>0.5</td>\n",
       "      <td>4.0</td>\n",
       "    </tr>\n",
       "    <tr>\n",
       "      <th>1</th>\n",
       "      <td>['Action']</td>\n",
       "      <td>Half-Life</td>\n",
       "      <td>1998</td>\n",
       "      <td>9.99</td>\n",
       "      <td>70.0</td>\n",
       "      <td>Valve</td>\n",
       "      <td>EizanAratoFujimaki</td>\n",
       "      <td>70</td>\n",
       "      <td>1.0</td>\n",
       "      <td>1.0</td>\n",
       "      <td>5.0</td>\n",
       "    </tr>\n",
       "    <tr>\n",
       "      <th>2</th>\n",
       "      <td>['Action']</td>\n",
       "      <td>Half-Life</td>\n",
       "      <td>1998</td>\n",
       "      <td>9.99</td>\n",
       "      <td>70.0</td>\n",
       "      <td>Valve</td>\n",
       "      <td>GamerFag</td>\n",
       "      <td>70</td>\n",
       "      <td>1.0</td>\n",
       "      <td>0.0</td>\n",
       "      <td>3.0</td>\n",
       "    </tr>\n",
       "    <tr>\n",
       "      <th>3</th>\n",
       "      <td>['Action']</td>\n",
       "      <td>Half-Life</td>\n",
       "      <td>1998</td>\n",
       "      <td>9.99</td>\n",
       "      <td>70.0</td>\n",
       "      <td>Valve</td>\n",
       "      <td>76561198020928326</td>\n",
       "      <td>70</td>\n",
       "      <td>1.0</td>\n",
       "      <td>1.0</td>\n",
       "      <td>5.0</td>\n",
       "    </tr>\n",
       "    <tr>\n",
       "      <th>4</th>\n",
       "      <td>['Action']</td>\n",
       "      <td>Half-Life</td>\n",
       "      <td>1998</td>\n",
       "      <td>9.99</td>\n",
       "      <td>70.0</td>\n",
       "      <td>Valve</td>\n",
       "      <td>Bluegills</td>\n",
       "      <td>70</td>\n",
       "      <td>1.0</td>\n",
       "      <td>1.0</td>\n",
       "      <td>5.0</td>\n",
       "    </tr>\n",
       "  </tbody>\n",
       "</table>\n",
       "</div>"
      ],
      "text/plain": [
       "                          genres                 title  release_date  price  \\\n",
       "0  ['Action', 'Indie', 'Racing']  Carmageddon Max Pack          1997   9.99   \n",
       "1                     ['Action']             Half-Life          1998   9.99   \n",
       "2                     ['Action']             Half-Life          1998   9.99   \n",
       "3                     ['Action']             Half-Life          1998   9.99   \n",
       "4                     ['Action']             Half-Life          1998   9.99   \n",
       "\n",
       "         id            developer             user_id  item_id  recommend  \\\n",
       "0  282010.0  Stainless Games Ltd        InstigatorAU   282010        1.0   \n",
       "1      70.0                Valve  EizanAratoFujimaki       70        1.0   \n",
       "2      70.0                Valve            GamerFag       70        1.0   \n",
       "3      70.0                Valve   76561198020928326       70        1.0   \n",
       "4      70.0                Valve           Bluegills       70        1.0   \n",
       "\n",
       "   sentiment_analysis  rating  \n",
       "0                 0.5     4.0  \n",
       "1                 1.0     5.0  \n",
       "2                 0.0     3.0  \n",
       "3                 1.0     5.0  \n",
       "4                 1.0     5.0  "
      ]
     },
     "execution_count": 25,
     "metadata": {},
     "output_type": "execute_result"
    }
   ],
   "source": [
    "merged_df.head()"
   ]
  },
  {
   "cell_type": "code",
   "execution_count": 26,
   "metadata": {},
   "outputs": [],
   "source": [
    "para_entrenar = merged_df[['user_id','title','rating']]"
   ]
  },
  {
   "cell_type": "code",
   "execution_count": 28,
   "metadata": {},
   "outputs": [],
   "source": [
    "reader = Reader(rating_scale=(0, 4))\n",
    "\n",
    "data = Dataset.load_from_df(para_entrenar, reader)"
   ]
  },
  {
   "cell_type": "code",
   "execution_count": 31,
   "metadata": {},
   "outputs": [],
   "source": [
    "train_data, test_data = train_test_split(data, test_size=0.2, random_state=42)"
   ]
  },
  {
   "cell_type": "markdown",
   "metadata": {},
   "source": [
    "## creo la columna rating"
   ]
  },
  {
   "cell_type": "code",
   "execution_count": 20,
   "metadata": {},
   "outputs": [
    {
     "data": {
      "text/plain": [
       "array([5., 4., 3., 1., 0., 2.])"
      ]
     },
     "execution_count": 20,
     "metadata": {},
     "output_type": "execute_result"
    }
   ],
   "source": [
    "\n",
    "\n",
    "# creo la columna rating\n",
    "\n",
    "# Paso 1: Convertir los valores booleanos a enteros\n",
    "df_user_reviews['recommend'] = df_user_reviews['recommend'].replace({True: 1, False: 0})\n",
    "\n",
    "# Paso 2: Normalizar las columnas de recomendación y análisis de sentimientos\n",
    "scaler = MinMaxScaler()\n",
    "scaler.fit(df_user_reviews[['recommend', 'sentiment_analysis']])\n",
    "df_user_reviews[['recommend', 'sentiment_analysis']] = scaler.transform(df_user_reviews[['recommend', 'sentiment_analysis']])\n",
    "\n",
    "# Paso 3: Crear la columna de calificación\n",
    "df_user_reviews['rating'] = df_user_reviews['recommend'] * 0.6 + df_user_reviews['sentiment_analysis'] * 0.4\n",
    "\n",
    "# Paso 4: Ajustar la columna de calificación\n",
    "df_user_reviews['rating'] = df_user_reviews['rating'] * 5\n",
    "\n",
    "# Verificar el resultado\n",
    "df_user_reviews[\"rating\"].unique()\n"
   ]
  },
  {
   "cell_type": "code",
   "execution_count": 13,
   "metadata": {},
   "outputs": [
    {
     "data": {
      "text/html": [
       "<div>\n",
       "<style scoped>\n",
       "    .dataframe tbody tr th:only-of-type {\n",
       "        vertical-align: middle;\n",
       "    }\n",
       "\n",
       "    .dataframe tbody tr th {\n",
       "        vertical-align: top;\n",
       "    }\n",
       "\n",
       "    .dataframe thead th {\n",
       "        text-align: right;\n",
       "    }\n",
       "</style>\n",
       "<table border=\"1\" class=\"dataframe\">\n",
       "  <thead>\n",
       "    <tr style=\"text-align: right;\">\n",
       "      <th></th>\n",
       "      <th>user_id</th>\n",
       "      <th>item_id</th>\n",
       "      <th>recommend</th>\n",
       "      <th>sentiment_analysis</th>\n",
       "      <th>rating</th>\n",
       "    </tr>\n",
       "  </thead>\n",
       "  <tbody>\n",
       "    <tr>\n",
       "      <th>0</th>\n",
       "      <td>76561197970982479</td>\n",
       "      <td>1250</td>\n",
       "      <td>1.0</td>\n",
       "      <td>1.0</td>\n",
       "      <td>5.0</td>\n",
       "    </tr>\n",
       "    <tr>\n",
       "      <th>1</th>\n",
       "      <td>76561197970982479</td>\n",
       "      <td>22200</td>\n",
       "      <td>1.0</td>\n",
       "      <td>1.0</td>\n",
       "      <td>5.0</td>\n",
       "    </tr>\n",
       "    <tr>\n",
       "      <th>2</th>\n",
       "      <td>76561197970982479</td>\n",
       "      <td>43110</td>\n",
       "      <td>1.0</td>\n",
       "      <td>1.0</td>\n",
       "      <td>5.0</td>\n",
       "    </tr>\n",
       "    <tr>\n",
       "      <th>3</th>\n",
       "      <td>js41637</td>\n",
       "      <td>251610</td>\n",
       "      <td>1.0</td>\n",
       "      <td>1.0</td>\n",
       "      <td>5.0</td>\n",
       "    </tr>\n",
       "    <tr>\n",
       "      <th>4</th>\n",
       "      <td>js41637</td>\n",
       "      <td>227300</td>\n",
       "      <td>1.0</td>\n",
       "      <td>1.0</td>\n",
       "      <td>5.0</td>\n",
       "    </tr>\n",
       "    <tr>\n",
       "      <th>...</th>\n",
       "      <td>...</td>\n",
       "      <td>...</td>\n",
       "      <td>...</td>\n",
       "      <td>...</td>\n",
       "      <td>...</td>\n",
       "    </tr>\n",
       "    <tr>\n",
       "      <th>59300</th>\n",
       "      <td>76561198312638244</td>\n",
       "      <td>70</td>\n",
       "      <td>1.0</td>\n",
       "      <td>1.0</td>\n",
       "      <td>5.0</td>\n",
       "    </tr>\n",
       "    <tr>\n",
       "      <th>59301</th>\n",
       "      <td>76561198312638244</td>\n",
       "      <td>362890</td>\n",
       "      <td>1.0</td>\n",
       "      <td>1.0</td>\n",
       "      <td>5.0</td>\n",
       "    </tr>\n",
       "    <tr>\n",
       "      <th>59302</th>\n",
       "      <td>LydiaMorley</td>\n",
       "      <td>273110</td>\n",
       "      <td>1.0</td>\n",
       "      <td>1.0</td>\n",
       "      <td>5.0</td>\n",
       "    </tr>\n",
       "    <tr>\n",
       "      <th>59303</th>\n",
       "      <td>LydiaMorley</td>\n",
       "      <td>730</td>\n",
       "      <td>1.0</td>\n",
       "      <td>1.0</td>\n",
       "      <td>5.0</td>\n",
       "    </tr>\n",
       "    <tr>\n",
       "      <th>59304</th>\n",
       "      <td>LydiaMorley</td>\n",
       "      <td>440</td>\n",
       "      <td>1.0</td>\n",
       "      <td>1.0</td>\n",
       "      <td>5.0</td>\n",
       "    </tr>\n",
       "  </tbody>\n",
       "</table>\n",
       "<p>59305 rows × 5 columns</p>\n",
       "</div>"
      ],
      "text/plain": [
       "                 user_id  item_id  recommend  sentiment_analysis  rating\n",
       "0      76561197970982479     1250        1.0                 1.0     5.0\n",
       "1      76561197970982479    22200        1.0                 1.0     5.0\n",
       "2      76561197970982479    43110        1.0                 1.0     5.0\n",
       "3                js41637   251610        1.0                 1.0     5.0\n",
       "4                js41637   227300        1.0                 1.0     5.0\n",
       "...                  ...      ...        ...                 ...     ...\n",
       "59300  76561198312638244       70        1.0                 1.0     5.0\n",
       "59301  76561198312638244   362890        1.0                 1.0     5.0\n",
       "59302        LydiaMorley   273110        1.0                 1.0     5.0\n",
       "59303        LydiaMorley      730        1.0                 1.0     5.0\n",
       "59304        LydiaMorley      440        1.0                 1.0     5.0\n",
       "\n",
       "[59305 rows x 5 columns]"
      ]
     },
     "execution_count": 13,
     "metadata": {},
     "output_type": "execute_result"
    }
   ],
   "source": [
    "df_user_reviews"
   ]
  },
  {
   "cell_type": "code",
   "execution_count": null,
   "metadata": {},
   "outputs": [],
   "source": [
    "# nuevo_df = df_user_reviews[['user_id','title','rating']]"
   ]
  },
  {
   "cell_type": "code",
   "execution_count": null,
   "metadata": {},
   "outputs": [],
   "source": [
    "# reader = Reader(rating_scale=(0, 4))\n",
    "\n",
    "# data = Dataset.load_from_df(nuevo_df, reader)"
   ]
  },
  {
   "cell_type": "code",
   "execution_count": 29,
   "metadata": {},
   "outputs": [],
   "source": [
    "\n",
    "from surprise import SVD\n",
    "model = SVD()"
   ]
  },
  {
   "cell_type": "code",
   "execution_count": 32,
   "metadata": {},
   "outputs": [
    {
     "data": {
      "text/plain": [
       "<surprise.prediction_algorithms.matrix_factorization.SVD at 0x211db0a5460>"
      ]
     },
     "execution_count": 32,
     "metadata": {},
     "output_type": "execute_result"
    }
   ],
   "source": [
    "# Entrenamos el modelo\n",
    "model.fit(train_data)"
   ]
  },
  {
   "cell_type": "code",
   "execution_count": 33,
   "metadata": {},
   "outputs": [],
   "source": [
    "# Predecimos\n",
    "predictions = model.test(test_data)"
   ]
  },
  {
   "cell_type": "code",
   "execution_count": 34,
   "metadata": {},
   "outputs": [
    {
     "data": {
      "text/plain": [
       "Prediction(uid='76561198074783932', iid='Rocket League®', r_ui=5.0, est=4, details={'was_impossible': False})"
      ]
     },
     "execution_count": 34,
     "metadata": {},
     "output_type": "execute_result"
    }
   ],
   "source": [
    "predictions[1]"
   ]
  },
  {
   "cell_type": "code",
   "execution_count": 35,
   "metadata": {},
   "outputs": [
    {
     "data": {
      "text/plain": [
       "Prediction(uid='76561198081529182', iid='Killing Floor', r_ui=None, est=4, details={'was_impossible': False})"
      ]
     },
     "execution_count": 35,
     "metadata": {},
     "output_type": "execute_result"
    }
   ],
   "source": [
    "# Hacemos una predicción al azar para usuario y juego\n",
    "model.predict(\"76561198081529182\",\"Killing Floor\")"
   ]
  },
  {
   "cell_type": "code",
   "execution_count": 43,
   "metadata": {},
   "outputs": [],
   "source": [
    "def recomendacion_usuario(user_id):\n",
    "  # Obtener todos los juegos que el usuario ha calificado\n",
    "  juegos_usuario = df_user_reviews[df_user_reviews['user_id'] == user_id]['item_id'].values\n",
    "  \n",
    "  # Obtener todos los juegos posibles\n",
    "  todos_los_juegos = df_user_reviews['item_id'].unique()\n",
    "  \n",
    "  # Obtener las predicciones para cada juego que el usuario no ha calificado\n",
    "  predicciones = [model.predict(user_id, juego) for juego in todos_los_juegos if juego not in juegos_usuario]\n",
    "  \n",
    "  # Ordenar las predicciones por puntuación de predicción\n",
    "  predicciones_ordenadas = sorted(predicciones, key=lambda x: x.est, reverse=True)\n",
    "  \n",
    "  # Devolver los 5 juegos recomendados\n",
    "  return [pred.iid for pred in predicciones_ordenadas[:5]]\n"
   ]
  },
  {
   "cell_type": "code",
   "execution_count": 44,
   "metadata": {},
   "outputs": [],
   "source": [
    "recommend_function = recomendacion_usuario(\"76561198081529182\")"
   ]
  },
  {
   "cell_type": "code",
   "execution_count": 45,
   "metadata": {},
   "outputs": [
    {
     "data": {
      "text/plain": [
       "[22200, 43110, 251610, 227300, 239030]"
      ]
     },
     "execution_count": 45,
     "metadata": {},
     "output_type": "execute_result"
    }
   ],
   "source": [
    "recommend_function"
   ]
  }
 ],
 "metadata": {
  "kernelspec": {
   "display_name": "Python 3",
   "language": "python",
   "name": "python3"
  },
  "language_info": {
   "codemirror_mode": {
    "name": "ipython",
    "version": 3
   },
   "file_extension": ".py",
   "mimetype": "text/x-python",
   "name": "python",
   "nbconvert_exporter": "python",
   "pygments_lexer": "ipython3",
   "version": "3.9.18"
  }
 },
 "nbformat": 4,
 "nbformat_minor": 2
}
