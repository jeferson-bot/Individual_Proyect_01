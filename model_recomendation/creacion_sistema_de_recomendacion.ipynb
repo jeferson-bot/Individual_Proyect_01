{
 "cells": [
  {
   "cell_type": "code",
   "execution_count": 4,
   "metadata": {},
   "outputs": [],
   "source": [
    "import pickle\n",
    "import numpy as np\n",
    "import pandas as pd\n",
    "import gc\n",
    "import sys\n",
    "from surprise import Dataset\n",
    "from sklearn.preprocessing import MinMaxScaler\n",
    "from surprise import SVD\n",
    "from surprise import Reader\n",
    "from surprise.model_selection import train_test_split "
   ]
  },
  {
   "cell_type": "code",
   "execution_count": 5,
   "metadata": {},
   "outputs": [],
   "source": [
    "df_steam_games = pd.read_csv('../datasets/df_steam_games_clean.csv')\n",
    "df_user_reviews = pd.read_csv('../datasets/df_user_reviews_clean.csv')\n",
    "df_user_items = pd.read_csv('../datasets/df_user_items_clean.csv.gz',compression='gzip')"
   ]
  },
  {
   "cell_type": "code",
   "execution_count": 6,
   "metadata": {},
   "outputs": [],
   "source": [
    "df_user_reviews.to_csv(\"user_reviews_ur.csv\", index=False)"
   ]
  },
  {
   "cell_type": "code",
   "execution_count": 7,
   "metadata": {},
   "outputs": [],
   "source": [
    "merged_df = df_steam_games.merge(df_user_reviews, left_on='id', right_on='item_id', how='inner')"
   ]
  },
  {
   "cell_type": "code",
   "execution_count": 14,
   "metadata": {},
   "outputs": [],
   "source": [
    "df_user_reviews = merged_df"
   ]
  },
  {
   "cell_type": "code",
   "execution_count": 15,
   "metadata": {},
   "outputs": [
    {
     "data": {
      "text/html": [
       "<div>\n",
       "<style scoped>\n",
       "    .dataframe tbody tr th:only-of-type {\n",
       "        vertical-align: middle;\n",
       "    }\n",
       "\n",
       "    .dataframe tbody tr th {\n",
       "        vertical-align: top;\n",
       "    }\n",
       "\n",
       "    .dataframe thead th {\n",
       "        text-align: right;\n",
       "    }\n",
       "</style>\n",
       "<table border=\"1\" class=\"dataframe\">\n",
       "  <thead>\n",
       "    <tr style=\"text-align: right;\">\n",
       "      <th></th>\n",
       "      <th>genres</th>\n",
       "      <th>title</th>\n",
       "      <th>release_date</th>\n",
       "      <th>price</th>\n",
       "      <th>id</th>\n",
       "      <th>developer</th>\n",
       "      <th>user_id</th>\n",
       "      <th>item_id</th>\n",
       "      <th>recommend</th>\n",
       "      <th>sentiment_analysis</th>\n",
       "      <th>rating</th>\n",
       "    </tr>\n",
       "  </thead>\n",
       "  <tbody>\n",
       "    <tr>\n",
       "      <th>0</th>\n",
       "      <td>['Action', 'Indie', 'Racing']</td>\n",
       "      <td>Carmageddon Max Pack</td>\n",
       "      <td>1997</td>\n",
       "      <td>9.99</td>\n",
       "      <td>282010.0</td>\n",
       "      <td>Stainless Games Ltd</td>\n",
       "      <td>InstigatorAU</td>\n",
       "      <td>282010</td>\n",
       "      <td>1.0</td>\n",
       "      <td>0.5</td>\n",
       "      <td>4.0</td>\n",
       "    </tr>\n",
       "    <tr>\n",
       "      <th>1</th>\n",
       "      <td>['Action']</td>\n",
       "      <td>Half-Life</td>\n",
       "      <td>1998</td>\n",
       "      <td>9.99</td>\n",
       "      <td>70.0</td>\n",
       "      <td>Valve</td>\n",
       "      <td>EizanAratoFujimaki</td>\n",
       "      <td>70</td>\n",
       "      <td>1.0</td>\n",
       "      <td>1.0</td>\n",
       "      <td>5.0</td>\n",
       "    </tr>\n",
       "    <tr>\n",
       "      <th>2</th>\n",
       "      <td>['Action']</td>\n",
       "      <td>Half-Life</td>\n",
       "      <td>1998</td>\n",
       "      <td>9.99</td>\n",
       "      <td>70.0</td>\n",
       "      <td>Valve</td>\n",
       "      <td>GamerFag</td>\n",
       "      <td>70</td>\n",
       "      <td>1.0</td>\n",
       "      <td>0.0</td>\n",
       "      <td>3.0</td>\n",
       "    </tr>\n",
       "    <tr>\n",
       "      <th>3</th>\n",
       "      <td>['Action']</td>\n",
       "      <td>Half-Life</td>\n",
       "      <td>1998</td>\n",
       "      <td>9.99</td>\n",
       "      <td>70.0</td>\n",
       "      <td>Valve</td>\n",
       "      <td>76561198020928326</td>\n",
       "      <td>70</td>\n",
       "      <td>1.0</td>\n",
       "      <td>1.0</td>\n",
       "      <td>5.0</td>\n",
       "    </tr>\n",
       "    <tr>\n",
       "      <th>4</th>\n",
       "      <td>['Action']</td>\n",
       "      <td>Half-Life</td>\n",
       "      <td>1998</td>\n",
       "      <td>9.99</td>\n",
       "      <td>70.0</td>\n",
       "      <td>Valve</td>\n",
       "      <td>Bluegills</td>\n",
       "      <td>70</td>\n",
       "      <td>1.0</td>\n",
       "      <td>1.0</td>\n",
       "      <td>5.0</td>\n",
       "    </tr>\n",
       "  </tbody>\n",
       "</table>\n",
       "</div>"
      ],
      "text/plain": [
       "                          genres                 title  release_date  price  \\\n",
       "0  ['Action', 'Indie', 'Racing']  Carmageddon Max Pack          1997   9.99   \n",
       "1                     ['Action']             Half-Life          1998   9.99   \n",
       "2                     ['Action']             Half-Life          1998   9.99   \n",
       "3                     ['Action']             Half-Life          1998   9.99   \n",
       "4                     ['Action']             Half-Life          1998   9.99   \n",
       "\n",
       "         id            developer             user_id  item_id  recommend  \\\n",
       "0  282010.0  Stainless Games Ltd        InstigatorAU   282010        1.0   \n",
       "1      70.0                Valve  EizanAratoFujimaki       70        1.0   \n",
       "2      70.0                Valve            GamerFag       70        1.0   \n",
       "3      70.0                Valve   76561198020928326       70        1.0   \n",
       "4      70.0                Valve           Bluegills       70        1.0   \n",
       "\n",
       "   sentiment_analysis  rating  \n",
       "0                 0.5     4.0  \n",
       "1                 1.0     5.0  \n",
       "2                 0.0     3.0  \n",
       "3                 1.0     5.0  \n",
       "4                 1.0     5.0  "
      ]
     },
     "execution_count": 15,
     "metadata": {},
     "output_type": "execute_result"
    }
   ],
   "source": [
    "df_user_reviews.head()"
   ]
  },
  {
   "cell_type": "code",
   "execution_count": 33,
   "metadata": {},
   "outputs": [],
   "source": [
    "para_entrenar = merged_df[['user_id','title','rating']]"
   ]
  },
  {
   "cell_type": "code",
   "execution_count": 35,
   "metadata": {},
   "outputs": [],
   "source": [
    "reader = Reader(rating_scale=(0, 4))\n",
    "\n",
    "data = Dataset.load_from_df(para_entrenar, reader)"
   ]
  },
  {
   "cell_type": "code",
   "execution_count": 36,
   "metadata": {},
   "outputs": [],
   "source": [
    "train_data, test_data = train_test_split(data, test_size=0.2, random_state=42)"
   ]
  },
  {
   "cell_type": "markdown",
   "metadata": {},
   "source": [
    "## creo la columna rating"
   ]
  },
  {
   "cell_type": "code",
   "execution_count": 12,
   "metadata": {},
   "outputs": [
    {
     "data": {
      "text/plain": [
       "array([4., 5., 3., 2., 0., 1.])"
      ]
     },
     "execution_count": 12,
     "metadata": {},
     "output_type": "execute_result"
    }
   ],
   "source": [
    "\n",
    "\n",
    "# creo la columna rating\n",
    "\n",
    "# Paso 1: Convertir los valores booleanos a enteros\n",
    "df_user_reviews['recommend'] = df_user_reviews['recommend'].replace({True: 1, False: 0})\n",
    "\n",
    "# Paso 2: Normalizar las columnas de recomendación y análisis de sentimientos\n",
    "scaler = MinMaxScaler()\n",
    "scaler.fit(df_user_reviews[['recommend', 'sentiment_analysis']])\n",
    "df_user_reviews[['recommend', 'sentiment_analysis']] = scaler.transform(df_user_reviews[['recommend', 'sentiment_analysis']])\n",
    "\n",
    "# Paso 3: Crear la columna de calificación\n",
    "df_user_reviews['rating'] = df_user_reviews['recommend'] * 0.6 + df_user_reviews['sentiment_analysis'] * 0.4\n",
    "\n",
    "# Paso 4: Ajustar la columna de calificación\n",
    "df_user_reviews['rating'] = df_user_reviews['rating'] * 5\n",
    "\n",
    "# Verificar el resultado\n",
    "df_user_reviews[\"rating\"].unique()\n"
   ]
  },
  {
   "cell_type": "code",
   "execution_count": 37,
   "metadata": {},
   "outputs": [
    {
     "data": {
      "text/html": [
       "<div>\n",
       "<style scoped>\n",
       "    .dataframe tbody tr th:only-of-type {\n",
       "        vertical-align: middle;\n",
       "    }\n",
       "\n",
       "    .dataframe tbody tr th {\n",
       "        vertical-align: top;\n",
       "    }\n",
       "\n",
       "    .dataframe thead th {\n",
       "        text-align: right;\n",
       "    }\n",
       "</style>\n",
       "<table border=\"1\" class=\"dataframe\">\n",
       "  <thead>\n",
       "    <tr style=\"text-align: right;\">\n",
       "      <th></th>\n",
       "      <th>genres</th>\n",
       "      <th>title</th>\n",
       "      <th>release_date</th>\n",
       "      <th>price</th>\n",
       "      <th>id</th>\n",
       "      <th>developer</th>\n",
       "      <th>user_id</th>\n",
       "      <th>item_id</th>\n",
       "      <th>recommend</th>\n",
       "      <th>sentiment_analysis</th>\n",
       "      <th>rating</th>\n",
       "    </tr>\n",
       "  </thead>\n",
       "  <tbody>\n",
       "    <tr>\n",
       "      <th>0</th>\n",
       "      <td>['Action', 'Indie', 'Racing']</td>\n",
       "      <td>Carmageddon Max Pack</td>\n",
       "      <td>1997</td>\n",
       "      <td>9.99</td>\n",
       "      <td>282010.0</td>\n",
       "      <td>Stainless Games Ltd</td>\n",
       "      <td>InstigatorAU</td>\n",
       "      <td>282010</td>\n",
       "      <td>1.0</td>\n",
       "      <td>0.5</td>\n",
       "      <td>4.0</td>\n",
       "    </tr>\n",
       "    <tr>\n",
       "      <th>1</th>\n",
       "      <td>['Action']</td>\n",
       "      <td>Half-Life</td>\n",
       "      <td>1998</td>\n",
       "      <td>9.99</td>\n",
       "      <td>70.0</td>\n",
       "      <td>Valve</td>\n",
       "      <td>EizanAratoFujimaki</td>\n",
       "      <td>70</td>\n",
       "      <td>1.0</td>\n",
       "      <td>1.0</td>\n",
       "      <td>5.0</td>\n",
       "    </tr>\n",
       "    <tr>\n",
       "      <th>2</th>\n",
       "      <td>['Action']</td>\n",
       "      <td>Half-Life</td>\n",
       "      <td>1998</td>\n",
       "      <td>9.99</td>\n",
       "      <td>70.0</td>\n",
       "      <td>Valve</td>\n",
       "      <td>GamerFag</td>\n",
       "      <td>70</td>\n",
       "      <td>1.0</td>\n",
       "      <td>0.0</td>\n",
       "      <td>3.0</td>\n",
       "    </tr>\n",
       "    <tr>\n",
       "      <th>3</th>\n",
       "      <td>['Action']</td>\n",
       "      <td>Half-Life</td>\n",
       "      <td>1998</td>\n",
       "      <td>9.99</td>\n",
       "      <td>70.0</td>\n",
       "      <td>Valve</td>\n",
       "      <td>76561198020928326</td>\n",
       "      <td>70</td>\n",
       "      <td>1.0</td>\n",
       "      <td>1.0</td>\n",
       "      <td>5.0</td>\n",
       "    </tr>\n",
       "    <tr>\n",
       "      <th>4</th>\n",
       "      <td>['Action']</td>\n",
       "      <td>Half-Life</td>\n",
       "      <td>1998</td>\n",
       "      <td>9.99</td>\n",
       "      <td>70.0</td>\n",
       "      <td>Valve</td>\n",
       "      <td>Bluegills</td>\n",
       "      <td>70</td>\n",
       "      <td>1.0</td>\n",
       "      <td>1.0</td>\n",
       "      <td>5.0</td>\n",
       "    </tr>\n",
       "    <tr>\n",
       "      <th>...</th>\n",
       "      <td>...</td>\n",
       "      <td>...</td>\n",
       "      <td>...</td>\n",
       "      <td>...</td>\n",
       "      <td>...</td>\n",
       "      <td>...</td>\n",
       "      <td>...</td>\n",
       "      <td>...</td>\n",
       "      <td>...</td>\n",
       "      <td>...</td>\n",
       "      <td>...</td>\n",
       "    </tr>\n",
       "    <tr>\n",
       "      <th>49468</th>\n",
       "      <td>['Action']</td>\n",
       "      <td>Counter-Strike: Condition Zero</td>\n",
       "      <td>2004</td>\n",
       "      <td>9.99</td>\n",
       "      <td>80.0</td>\n",
       "      <td>Valve</td>\n",
       "      <td>76561198023508728</td>\n",
       "      <td>80</td>\n",
       "      <td>0.0</td>\n",
       "      <td>0.5</td>\n",
       "      <td>1.0</td>\n",
       "    </tr>\n",
       "    <tr>\n",
       "      <th>49469</th>\n",
       "      <td>['Action']</td>\n",
       "      <td>Counter-Strike: Condition Zero</td>\n",
       "      <td>2004</td>\n",
       "      <td>9.99</td>\n",
       "      <td>80.0</td>\n",
       "      <td>Valve</td>\n",
       "      <td>Lone_walker</td>\n",
       "      <td>80</td>\n",
       "      <td>1.0</td>\n",
       "      <td>1.0</td>\n",
       "      <td>5.0</td>\n",
       "    </tr>\n",
       "    <tr>\n",
       "      <th>49470</th>\n",
       "      <td>['Action']</td>\n",
       "      <td>Counter-Strike: Condition Zero</td>\n",
       "      <td>2004</td>\n",
       "      <td>9.99</td>\n",
       "      <td>80.0</td>\n",
       "      <td>Valve</td>\n",
       "      <td>green290</td>\n",
       "      <td>80</td>\n",
       "      <td>1.0</td>\n",
       "      <td>0.5</td>\n",
       "      <td>4.0</td>\n",
       "    </tr>\n",
       "    <tr>\n",
       "      <th>49471</th>\n",
       "      <td>['Action']</td>\n",
       "      <td>Counter-Strike: Condition Zero</td>\n",
       "      <td>2004</td>\n",
       "      <td>9.99</td>\n",
       "      <td>80.0</td>\n",
       "      <td>Valve</td>\n",
       "      <td>174gamecuman700kngkakak</td>\n",
       "      <td>80</td>\n",
       "      <td>1.0</td>\n",
       "      <td>0.5</td>\n",
       "      <td>4.0</td>\n",
       "    </tr>\n",
       "    <tr>\n",
       "      <th>49472</th>\n",
       "      <td>['Action']</td>\n",
       "      <td>Counter-Strike: Condition Zero</td>\n",
       "      <td>2004</td>\n",
       "      <td>9.99</td>\n",
       "      <td>80.0</td>\n",
       "      <td>Valve</td>\n",
       "      <td>lachwe</td>\n",
       "      <td>80</td>\n",
       "      <td>1.0</td>\n",
       "      <td>0.0</td>\n",
       "      <td>3.0</td>\n",
       "    </tr>\n",
       "  </tbody>\n",
       "</table>\n",
       "<p>49473 rows × 11 columns</p>\n",
       "</div>"
      ],
      "text/plain": [
       "                              genres                           title  \\\n",
       "0      ['Action', 'Indie', 'Racing']            Carmageddon Max Pack   \n",
       "1                         ['Action']                       Half-Life   \n",
       "2                         ['Action']                       Half-Life   \n",
       "3                         ['Action']                       Half-Life   \n",
       "4                         ['Action']                       Half-Life   \n",
       "...                              ...                             ...   \n",
       "49468                     ['Action']  Counter-Strike: Condition Zero   \n",
       "49469                     ['Action']  Counter-Strike: Condition Zero   \n",
       "49470                     ['Action']  Counter-Strike: Condition Zero   \n",
       "49471                     ['Action']  Counter-Strike: Condition Zero   \n",
       "49472                     ['Action']  Counter-Strike: Condition Zero   \n",
       "\n",
       "       release_date  price        id            developer  \\\n",
       "0              1997   9.99  282010.0  Stainless Games Ltd   \n",
       "1              1998   9.99      70.0                Valve   \n",
       "2              1998   9.99      70.0                Valve   \n",
       "3              1998   9.99      70.0                Valve   \n",
       "4              1998   9.99      70.0                Valve   \n",
       "...             ...    ...       ...                  ...   \n",
       "49468          2004   9.99      80.0                Valve   \n",
       "49469          2004   9.99      80.0                Valve   \n",
       "49470          2004   9.99      80.0                Valve   \n",
       "49471          2004   9.99      80.0                Valve   \n",
       "49472          2004   9.99      80.0                Valve   \n",
       "\n",
       "                       user_id  item_id  recommend  sentiment_analysis  rating  \n",
       "0                 InstigatorAU   282010        1.0                 0.5     4.0  \n",
       "1           EizanAratoFujimaki       70        1.0                 1.0     5.0  \n",
       "2                     GamerFag       70        1.0                 0.0     3.0  \n",
       "3            76561198020928326       70        1.0                 1.0     5.0  \n",
       "4                    Bluegills       70        1.0                 1.0     5.0  \n",
       "...                        ...      ...        ...                 ...     ...  \n",
       "49468        76561198023508728       80        0.0                 0.5     1.0  \n",
       "49469              Lone_walker       80        1.0                 1.0     5.0  \n",
       "49470                 green290       80        1.0                 0.5     4.0  \n",
       "49471  174gamecuman700kngkakak       80        1.0                 0.5     4.0  \n",
       "49472                   lachwe       80        1.0                 0.0     3.0  \n",
       "\n",
       "[49473 rows x 11 columns]"
      ]
     },
     "execution_count": 37,
     "metadata": {},
     "output_type": "execute_result"
    }
   ],
   "source": [
    "df_user_reviews"
   ]
  },
  {
   "cell_type": "code",
   "execution_count": 38,
   "metadata": {},
   "outputs": [
    {
     "data": {
      "text/plain": [
       "0                  Carmageddon Max Pack\n",
       "1                             Half-Life\n",
       "2                             Half-Life\n",
       "3                             Half-Life\n",
       "4                             Half-Life\n",
       "                      ...              \n",
       "49468    Counter-Strike: Condition Zero\n",
       "49469    Counter-Strike: Condition Zero\n",
       "49470    Counter-Strike: Condition Zero\n",
       "49471    Counter-Strike: Condition Zero\n",
       "49472    Counter-Strike: Condition Zero\n",
       "Name: title, Length: 49473, dtype: object"
      ]
     },
     "execution_count": 38,
     "metadata": {},
     "output_type": "execute_result"
    }
   ],
   "source": [
    "df_user_reviews[\"title\"]"
   ]
  },
  {
   "cell_type": "code",
   "execution_count": null,
   "metadata": {},
   "outputs": [],
   "source": [
    "# nuevo_df = df_user_reviews[['user_id','title','rating']]"
   ]
  },
  {
   "cell_type": "code",
   "execution_count": null,
   "metadata": {},
   "outputs": [],
   "source": [
    "# reader = Reader(rating_scale=(0, 4))\n",
    "\n",
    "# data = Dataset.load_from_df(nuevo_df, reader)"
   ]
  },
  {
   "cell_type": "code",
   "execution_count": 22,
   "metadata": {},
   "outputs": [],
   "source": [
    "\n",
    "from surprise import SVD\n",
    "model = SVD()"
   ]
  },
  {
   "cell_type": "code",
   "execution_count": 23,
   "metadata": {},
   "outputs": [
    {
     "data": {
      "text/plain": [
       "<surprise.prediction_algorithms.matrix_factorization.SVD at 0x229cb94c370>"
      ]
     },
     "execution_count": 23,
     "metadata": {},
     "output_type": "execute_result"
    }
   ],
   "source": [
    "# Entrenamos el modelo\n",
    "model.fit(train_data)"
   ]
  },
  {
   "cell_type": "code",
   "execution_count": 24,
   "metadata": {},
   "outputs": [],
   "source": [
    "# Predecimos\n",
    "predictions = model.test(test_data)"
   ]
  },
  {
   "cell_type": "code",
   "execution_count": 27,
   "metadata": {},
   "outputs": [
    {
     "data": {
      "text/plain": [
       "Prediction(uid='76561198074783932', iid='Rocket League®', r_ui=5.0, est=4, details={'was_impossible': False})"
      ]
     },
     "execution_count": 27,
     "metadata": {},
     "output_type": "execute_result"
    }
   ],
   "source": [
    "predictions[1]"
   ]
  },
  {
   "cell_type": "code",
   "execution_count": 18,
   "metadata": {},
   "outputs": [
    {
     "data": {
      "text/plain": [
       "Prediction(uid='76561198081529182', iid='Killing Floor', r_ui=None, est=4, details={'was_impossible': False})"
      ]
     },
     "execution_count": 18,
     "metadata": {},
     "output_type": "execute_result"
    }
   ],
   "source": [
    "# Hacemos una predicción al azar para usuario y juego\n",
    "model.predict(\"76561198081529182\",\"Killing Floor\")"
   ]
  },
  {
   "cell_type": "code",
   "execution_count": 20,
   "metadata": {},
   "outputs": [],
   "source": [
    "def recomendacion_usuario(user_id):\n",
    "  # Obtener todos los juegos que el usuario ha calificado\n",
    "  juegos_usuario = df_user_reviews[df_user_reviews['user_id'] == user_id]['item_id'].values\n",
    "  \n",
    "  # Obtener todos los juegos posibles\n",
    "  todos_los_juegos = df_user_reviews['item_id'].unique()\n",
    "  \n",
    "  # Obtener las predicciones para cada juego que el usuario no ha calificado\n",
    "  predicciones = [model.predict(user_id, juego) for juego in todos_los_juegos if juego not in juegos_usuario]\n",
    "  \n",
    "  # Ordenar las predicciones por puntuación de predicción\n",
    "  predicciones_ordenadas = sorted(predicciones, key=lambda x: x.est, reverse=True)\n",
    "  \n",
    "  # Devolver los 5 juegos recomendados\n",
    "  return [pred.iid for pred in predicciones_ordenadas[:5]]\n"
   ]
  },
  {
   "cell_type": "code",
   "execution_count": 21,
   "metadata": {},
   "outputs": [],
   "source": [
    "recommend_function = recomendacion_usuario(\"76561198081529182\")"
   ]
  },
  {
   "cell_type": "code",
   "execution_count": 22,
   "metadata": {},
   "outputs": [
    {
     "data": {
      "text/plain": [
       "[282010, 70, 2400, 3800, 1520]"
      ]
     },
     "execution_count": 22,
     "metadata": {},
     "output_type": "execute_result"
    }
   ],
   "source": [
    "recommend_function"
   ]
  },
  {
   "cell_type": "code",
   "execution_count": 39,
   "metadata": {},
   "outputs": [],
   "source": [
    "def recomendacion_usuario(user_id: str):\n",
    "    try:\n",
    "        df_user_reviews = pd.read_csv(\n",
    "            'user_reviews_ur.csv')\n",
    "    except FileNotFoundError:\n",
    "        return {\"error\": \"Data files not found\"}\n",
    "    # Obtener todos los juegos que el usuario ha calificado\n",
    "    juegos_usuario = df_user_reviews[df_user_reviews['user_id']\n",
    "                                        == user_id]['item_id'].values\n",
    "\n",
    "    # Obtener todos los juegos posibles\n",
    "    todos_los_juegos = df_user_reviews['item_id'].unique()\n",
    "\n",
    "    with open('modelo_entrenado.pkl', 'rb') as file:\n",
    "        model = pickle.load(file)\n",
    "\n",
    "    # Obtener las predicciones para cada juego que el usuario no ha calificado\n",
    "    predicciones = [model.predict(\n",
    "        user_id, juego) for juego in todos_los_juegos if juego not in juegos_usuario]\n",
    "\n",
    "    # Ordenar las predicciones por puntuación de predicción\n",
    "    predicciones_ordenadas = sorted(\n",
    "        predicciones, key=lambda x: x.est, reverse=True)\n",
    "\n",
    "    # Devolver los 5 juegos recomendados\n",
    "    respuesta = []\n",
    "    diccionario = {}\n",
    "    for pred in predicciones_ordenadas[:5]:\n",
    "        respuesta.append(pred.iid)\n",
    "\n",
    "    for i, juego in enumerate(respuesta, start=1):\n",
    "        opcion = f\"opcion{i}\"\n",
    "        nombre_juego = df_user_reviews.loc[df_user_reviews['item_id'] == juego, 'title'].values[0]\n",
    "        #nombre_juego = todos_los_juegos.loc[todos_los_juegos[\"item_id\"] == juego, \"title\"].values[0]\n",
    "        diccionario[opcion] = {\"id\": juego, \"nombre\": nombre_juego}\n",
    "\n",
    "    return diccionario"
   ]
  },
  {
   "cell_type": "code",
   "execution_count": null,
   "metadata": {},
   "outputs": [],
   "source": [
    "recomendacion_usuario(\"Sp3ctre\")"
   ]
  },
  {
   "cell_type": "code",
   "execution_count": null,
   "metadata": {},
   "outputs": [],
   "source": [
    "# for recomendacion in recomendaciones:\n",
    "#         listado.append(recomendacion.iid)\n",
    "\n",
    "#     #Creamos un diccionario con clave-valor para retornar los juegos recomendados\n",
    "#     for i, juego in enumerate(listado, start=1):\n",
    "#         opcion = f\"opcion{i}\"\n",
    "#         diccionario[opcion] = juego"
   ]
  },
  {
   "cell_type": "code",
   "execution_count": 49,
   "metadata": {},
   "outputs": [],
   "source": [
    "def recomendacion_usuario(user_id: str):\n",
    "    try:\n",
    "        df_user_reviews = pd.read_csv(\n",
    "            'user_reviews_ur.csv')\n",
    "    except FileNotFoundError:\n",
    "        return {\"error\": \"Data files not found\"}\n",
    "    # Obtener todos los juegos que el usuario ha calificado\n",
    "    juegos_usuario = df_user_reviews[df_user_reviews['user_id']\n",
    "                                     == user_id]['item_id'].values\n",
    "\n",
    "    # Obtener todos los juegos posibles\n",
    "    todos_los_juegos = df_user_reviews['item_id'].unique()\n",
    "\n",
    "    with open('modelo_entrenado.pkl', 'rb') as file:\n",
    "        model = pickle.load(file)\n",
    "\n",
    "    # Obtener las predicciones para cada juego que el usuario no ha calificado\n",
    "    predicciones = [model.predict(\n",
    "        user_id, juego) for juego in todos_los_juegos if juego not in juegos_usuario]\n",
    "\n",
    "    # Ordenar las predicciones por puntuación de predicción\n",
    "    predicciones_ordenadas = sorted(\n",
    "        predicciones, key=lambda x: x.est, reverse=True)\n",
    "\n",
    "    respuesta = []\n",
    "    diccionario = {}\n",
    "    for pred in predicciones_ordenadas[:5]:\n",
    "        respuesta.append(pred.iid)\n",
    "\n",
    "    for i, juego in enumerate(respuesta, start=1):\n",
    "        opcion = f\"opcion {i}\"\n",
    "        diccionario[opcion] = str(juego)\n",
    "\n",
    "    return diccionario"
   ]
  },
  {
   "cell_type": "code",
   "execution_count": 50,
   "metadata": {},
   "outputs": [
    {
     "data": {
      "text/plain": [
       "{'opcion 1': '1250',\n",
       " 'opcion 2': '22200',\n",
       " 'opcion 3': '43110',\n",
       " 'opcion 4': '251610',\n",
       " 'opcion 5': '227300'}"
      ]
     },
     "execution_count": 50,
     "metadata": {},
     "output_type": "execute_result"
    }
   ],
   "source": [
    "recomendacion_usuario(\"Sp3ctre\")"
   ]
  },
  {
   "cell_type": "code",
   "execution_count": 47,
   "metadata": {},
   "outputs": [],
   "source": [
    "def recomendacion_usuario(user_id: str):\n",
    "    try:\n",
    "        df_user_reviews = pd.read_csv('user_reviews_ur.csv')\n",
    "    except FileNotFoundError:\n",
    "        return {\"error\": \"Data files not found\"}\n",
    "\n",
    "    # Obtener todos los juegos que el usuario ha calificado\n",
    "    juegos_usuario = df_user_reviews[df_user_reviews['user_id'] == user_id]['item_id'].values\n",
    "\n",
    "    # Obtener todos los juegos posibles\n",
    "    todos_los_juegos = df_user_reviews['item_id'].unique()\n",
    "\n",
    "    with open('modelo_entrenado.pkl', 'rb') as file:\n",
    "        model = pickle.load(file)\n",
    "\n",
    "    # Obtener las predicciones para cada juego que el usuario no ha calificado\n",
    "    predicciones = [model.predict(user_id, juego) for juego in todos_los_juegos if juego not in juegos_usuario]\n",
    "\n",
    "    # Ordenar las predicciones por puntuación de predicción\n",
    "    predicciones_ordenadas = sorted(predicciones, key=lambda x: x.est, reverse=True)\n",
    "\n",
    "    respuesta = []\n",
    "    diccionario = {}\n",
    "    for pred in predicciones_ordenadas[:5]:\n",
    "        respuesta.append(pred.iid)\n",
    "\n",
    "    for i, juego in enumerate(respuesta, start=1):\n",
    "        opcion = f\"opcion {i}\"\n",
    "        nombre_juego = df_user_reviews.loc[df_user_reviews['item_id'] == juego, 'title'].values[0]\n",
    "        diccionario[opcion] = nombre_juego\n",
    "\n",
    "    return diccionario\n"
   ]
  },
  {
   "cell_type": "code",
   "execution_count": 48,
   "metadata": {},
   "outputs": [
    {
     "ename": "KeyError",
     "evalue": "'title'",
     "output_type": "error",
     "traceback": [
      "\u001b[1;31m---------------------------------------------------------------------------\u001b[0m",
      "\u001b[1;31mKeyError\u001b[0m                                  Traceback (most recent call last)",
      "File \u001b[1;32mc:\\Users\\jeffe\\miniconda3\\envs\\recommend_system\\lib\\site-packages\\pandas\\core\\indexes\\base.py:3790\u001b[0m, in \u001b[0;36mIndex.get_loc\u001b[1;34m(self, key)\u001b[0m\n\u001b[0;32m   3789\u001b[0m \u001b[39mtry\u001b[39;00m:\n\u001b[1;32m-> 3790\u001b[0m     \u001b[39mreturn\u001b[39;00m \u001b[39mself\u001b[39;49m\u001b[39m.\u001b[39;49m_engine\u001b[39m.\u001b[39;49mget_loc(casted_key)\n\u001b[0;32m   3791\u001b[0m \u001b[39mexcept\u001b[39;00m \u001b[39mKeyError\u001b[39;00m \u001b[39mas\u001b[39;00m err:\n",
      "File \u001b[1;32mindex.pyx:152\u001b[0m, in \u001b[0;36mpandas._libs.index.IndexEngine.get_loc\u001b[1;34m()\u001b[0m\n",
      "File \u001b[1;32mindex.pyx:181\u001b[0m, in \u001b[0;36mpandas._libs.index.IndexEngine.get_loc\u001b[1;34m()\u001b[0m\n",
      "File \u001b[1;32mpandas\\_libs\\hashtable_class_helper.pxi:7080\u001b[0m, in \u001b[0;36mpandas._libs.hashtable.PyObjectHashTable.get_item\u001b[1;34m()\u001b[0m\n",
      "File \u001b[1;32mpandas\\_libs\\hashtable_class_helper.pxi:7088\u001b[0m, in \u001b[0;36mpandas._libs.hashtable.PyObjectHashTable.get_item\u001b[1;34m()\u001b[0m\n",
      "\u001b[1;31mKeyError\u001b[0m: 'title'",
      "\nThe above exception was the direct cause of the following exception:\n",
      "\u001b[1;31mKeyError\u001b[0m                                  Traceback (most recent call last)",
      "\u001b[1;32md:\\Individual_Project_01\\model_recomendation\\creacion_sistema_de_recomendacion.ipynb Cell 30\u001b[0m line \u001b[0;36m1\n\u001b[1;32m----> <a href='vscode-notebook-cell:/d%3A/Individual_Project_01/model_recomendation/creacion_sistema_de_recomendacion.ipynb#X41sZmlsZQ%3D%3D?line=0'>1</a>\u001b[0m recomendacion_usuario(\u001b[39m\"\u001b[39;49m\u001b[39mSp3ctre\u001b[39;49m\u001b[39m\"\u001b[39;49m)\n",
      "\u001b[1;32md:\\Individual_Project_01\\model_recomendation\\creacion_sistema_de_recomendacion.ipynb Cell 30\u001b[0m line \u001b[0;36m2\n\u001b[0;32m     <a href='vscode-notebook-cell:/d%3A/Individual_Project_01/model_recomendation/creacion_sistema_de_recomendacion.ipynb#X41sZmlsZQ%3D%3D?line=26'>27</a>\u001b[0m \u001b[39mfor\u001b[39;00m i, juego \u001b[39min\u001b[39;00m \u001b[39menumerate\u001b[39m(respuesta, start\u001b[39m=\u001b[39m\u001b[39m1\u001b[39m):\n\u001b[0;32m     <a href='vscode-notebook-cell:/d%3A/Individual_Project_01/model_recomendation/creacion_sistema_de_recomendacion.ipynb#X41sZmlsZQ%3D%3D?line=27'>28</a>\u001b[0m     opcion \u001b[39m=\u001b[39m \u001b[39mf\u001b[39m\u001b[39m\"\u001b[39m\u001b[39mopcion \u001b[39m\u001b[39m{\u001b[39;00mi\u001b[39m}\u001b[39;00m\u001b[39m\"\u001b[39m\n\u001b[1;32m---> <a href='vscode-notebook-cell:/d%3A/Individual_Project_01/model_recomendation/creacion_sistema_de_recomendacion.ipynb#X41sZmlsZQ%3D%3D?line=28'>29</a>\u001b[0m     nombre_juego \u001b[39m=\u001b[39m df_user_reviews\u001b[39m.\u001b[39;49mloc[df_user_reviews[\u001b[39m'\u001b[39;49m\u001b[39mitem_id\u001b[39;49m\u001b[39m'\u001b[39;49m] \u001b[39m==\u001b[39;49m juego, \u001b[39m'\u001b[39;49m\u001b[39mtitle\u001b[39;49m\u001b[39m'\u001b[39;49m]\u001b[39m.\u001b[39mvalues[\u001b[39m0\u001b[39m]\n\u001b[0;32m     <a href='vscode-notebook-cell:/d%3A/Individual_Project_01/model_recomendation/creacion_sistema_de_recomendacion.ipynb#X41sZmlsZQ%3D%3D?line=29'>30</a>\u001b[0m     diccionario[opcion] \u001b[39m=\u001b[39m nombre_juego\n\u001b[0;32m     <a href='vscode-notebook-cell:/d%3A/Individual_Project_01/model_recomendation/creacion_sistema_de_recomendacion.ipynb#X41sZmlsZQ%3D%3D?line=31'>32</a>\u001b[0m \u001b[39mreturn\u001b[39;00m diccionario\n",
      "File \u001b[1;32mc:\\Users\\jeffe\\miniconda3\\envs\\recommend_system\\lib\\site-packages\\pandas\\core\\indexing.py:1147\u001b[0m, in \u001b[0;36m_LocationIndexer.__getitem__\u001b[1;34m(self, key)\u001b[0m\n\u001b[0;32m   1145\u001b[0m     \u001b[39mif\u001b[39;00m \u001b[39mself\u001b[39m\u001b[39m.\u001b[39m_is_scalar_access(key):\n\u001b[0;32m   1146\u001b[0m         \u001b[39mreturn\u001b[39;00m \u001b[39mself\u001b[39m\u001b[39m.\u001b[39mobj\u001b[39m.\u001b[39m_get_value(\u001b[39m*\u001b[39mkey, takeable\u001b[39m=\u001b[39m\u001b[39mself\u001b[39m\u001b[39m.\u001b[39m_takeable)\n\u001b[1;32m-> 1147\u001b[0m     \u001b[39mreturn\u001b[39;00m \u001b[39mself\u001b[39;49m\u001b[39m.\u001b[39;49m_getitem_tuple(key)\n\u001b[0;32m   1148\u001b[0m \u001b[39melse\u001b[39;00m:\n\u001b[0;32m   1149\u001b[0m     \u001b[39m# we by definition only have the 0th axis\u001b[39;00m\n\u001b[0;32m   1150\u001b[0m     axis \u001b[39m=\u001b[39m \u001b[39mself\u001b[39m\u001b[39m.\u001b[39maxis \u001b[39mor\u001b[39;00m \u001b[39m0\u001b[39m\n",
      "File \u001b[1;32mc:\\Users\\jeffe\\miniconda3\\envs\\recommend_system\\lib\\site-packages\\pandas\\core\\indexing.py:1330\u001b[0m, in \u001b[0;36m_LocIndexer._getitem_tuple\u001b[1;34m(self, tup)\u001b[0m\n\u001b[0;32m   1328\u001b[0m \u001b[39mwith\u001b[39;00m suppress(IndexingError):\n\u001b[0;32m   1329\u001b[0m     tup \u001b[39m=\u001b[39m \u001b[39mself\u001b[39m\u001b[39m.\u001b[39m_expand_ellipsis(tup)\n\u001b[1;32m-> 1330\u001b[0m     \u001b[39mreturn\u001b[39;00m \u001b[39mself\u001b[39;49m\u001b[39m.\u001b[39;49m_getitem_lowerdim(tup)\n\u001b[0;32m   1332\u001b[0m \u001b[39m# no multi-index, so validate all of the indexers\u001b[39;00m\n\u001b[0;32m   1333\u001b[0m tup \u001b[39m=\u001b[39m \u001b[39mself\u001b[39m\u001b[39m.\u001b[39m_validate_tuple_indexer(tup)\n",
      "File \u001b[1;32mc:\\Users\\jeffe\\miniconda3\\envs\\recommend_system\\lib\\site-packages\\pandas\\core\\indexing.py:1039\u001b[0m, in \u001b[0;36m_LocationIndexer._getitem_lowerdim\u001b[1;34m(self, tup)\u001b[0m\n\u001b[0;32m   1035\u001b[0m \u001b[39mfor\u001b[39;00m i, key \u001b[39min\u001b[39;00m \u001b[39menumerate\u001b[39m(tup):\n\u001b[0;32m   1036\u001b[0m     \u001b[39mif\u001b[39;00m is_label_like(key):\n\u001b[0;32m   1037\u001b[0m         \u001b[39m# We don't need to check for tuples here because those are\u001b[39;00m\n\u001b[0;32m   1038\u001b[0m         \u001b[39m#  caught by the _is_nested_tuple_indexer check above.\u001b[39;00m\n\u001b[1;32m-> 1039\u001b[0m         section \u001b[39m=\u001b[39m \u001b[39mself\u001b[39;49m\u001b[39m.\u001b[39;49m_getitem_axis(key, axis\u001b[39m=\u001b[39;49mi)\n\u001b[0;32m   1041\u001b[0m         \u001b[39m# We should never have a scalar section here, because\u001b[39;00m\n\u001b[0;32m   1042\u001b[0m         \u001b[39m#  _getitem_lowerdim is only called after a check for\u001b[39;00m\n\u001b[0;32m   1043\u001b[0m         \u001b[39m#  is_scalar_access, which that would be.\u001b[39;00m\n\u001b[0;32m   1044\u001b[0m         \u001b[39mif\u001b[39;00m section\u001b[39m.\u001b[39mndim \u001b[39m==\u001b[39m \u001b[39mself\u001b[39m\u001b[39m.\u001b[39mndim:\n\u001b[0;32m   1045\u001b[0m             \u001b[39m# we're in the middle of slicing through a MultiIndex\u001b[39;00m\n\u001b[0;32m   1046\u001b[0m             \u001b[39m# revise the key wrt to `section` by inserting an _NS\u001b[39;00m\n",
      "File \u001b[1;32mc:\\Users\\jeffe\\miniconda3\\envs\\recommend_system\\lib\\site-packages\\pandas\\core\\indexing.py:1393\u001b[0m, in \u001b[0;36m_LocIndexer._getitem_axis\u001b[1;34m(self, key, axis)\u001b[0m\n\u001b[0;32m   1391\u001b[0m \u001b[39m# fall thru to straight lookup\u001b[39;00m\n\u001b[0;32m   1392\u001b[0m \u001b[39mself\u001b[39m\u001b[39m.\u001b[39m_validate_key(key, axis)\n\u001b[1;32m-> 1393\u001b[0m \u001b[39mreturn\u001b[39;00m \u001b[39mself\u001b[39;49m\u001b[39m.\u001b[39;49m_get_label(key, axis\u001b[39m=\u001b[39;49maxis)\n",
      "File \u001b[1;32mc:\\Users\\jeffe\\miniconda3\\envs\\recommend_system\\lib\\site-packages\\pandas\\core\\indexing.py:1343\u001b[0m, in \u001b[0;36m_LocIndexer._get_label\u001b[1;34m(self, label, axis)\u001b[0m\n\u001b[0;32m   1341\u001b[0m \u001b[39mdef\u001b[39;00m \u001b[39m_get_label\u001b[39m(\u001b[39mself\u001b[39m, label, axis: AxisInt):\n\u001b[0;32m   1342\u001b[0m     \u001b[39m# GH#5567 this will fail if the label is not present in the axis.\u001b[39;00m\n\u001b[1;32m-> 1343\u001b[0m     \u001b[39mreturn\u001b[39;00m \u001b[39mself\u001b[39;49m\u001b[39m.\u001b[39;49mobj\u001b[39m.\u001b[39;49mxs(label, axis\u001b[39m=\u001b[39;49maxis)\n",
      "File \u001b[1;32mc:\\Users\\jeffe\\miniconda3\\envs\\recommend_system\\lib\\site-packages\\pandas\\core\\generic.py:4222\u001b[0m, in \u001b[0;36mNDFrame.xs\u001b[1;34m(self, key, axis, level, drop_level)\u001b[0m\n\u001b[0;32m   4220\u001b[0m \u001b[39mif\u001b[39;00m axis \u001b[39m==\u001b[39m \u001b[39m1\u001b[39m:\n\u001b[0;32m   4221\u001b[0m     \u001b[39mif\u001b[39;00m drop_level:\n\u001b[1;32m-> 4222\u001b[0m         \u001b[39mreturn\u001b[39;00m \u001b[39mself\u001b[39;49m[key]\n\u001b[0;32m   4223\u001b[0m     index \u001b[39m=\u001b[39m \u001b[39mself\u001b[39m\u001b[39m.\u001b[39mcolumns\n\u001b[0;32m   4224\u001b[0m \u001b[39melse\u001b[39;00m:\n",
      "File \u001b[1;32mc:\\Users\\jeffe\\miniconda3\\envs\\recommend_system\\lib\\site-packages\\pandas\\core\\frame.py:3893\u001b[0m, in \u001b[0;36mDataFrame.__getitem__\u001b[1;34m(self, key)\u001b[0m\n\u001b[0;32m   3891\u001b[0m \u001b[39mif\u001b[39;00m \u001b[39mself\u001b[39m\u001b[39m.\u001b[39mcolumns\u001b[39m.\u001b[39mnlevels \u001b[39m>\u001b[39m \u001b[39m1\u001b[39m:\n\u001b[0;32m   3892\u001b[0m     \u001b[39mreturn\u001b[39;00m \u001b[39mself\u001b[39m\u001b[39m.\u001b[39m_getitem_multilevel(key)\n\u001b[1;32m-> 3893\u001b[0m indexer \u001b[39m=\u001b[39m \u001b[39mself\u001b[39;49m\u001b[39m.\u001b[39;49mcolumns\u001b[39m.\u001b[39;49mget_loc(key)\n\u001b[0;32m   3894\u001b[0m \u001b[39mif\u001b[39;00m is_integer(indexer):\n\u001b[0;32m   3895\u001b[0m     indexer \u001b[39m=\u001b[39m [indexer]\n",
      "File \u001b[1;32mc:\\Users\\jeffe\\miniconda3\\envs\\recommend_system\\lib\\site-packages\\pandas\\core\\indexes\\base.py:3797\u001b[0m, in \u001b[0;36mIndex.get_loc\u001b[1;34m(self, key)\u001b[0m\n\u001b[0;32m   3792\u001b[0m     \u001b[39mif\u001b[39;00m \u001b[39misinstance\u001b[39m(casted_key, \u001b[39mslice\u001b[39m) \u001b[39mor\u001b[39;00m (\n\u001b[0;32m   3793\u001b[0m         \u001b[39misinstance\u001b[39m(casted_key, abc\u001b[39m.\u001b[39mIterable)\n\u001b[0;32m   3794\u001b[0m         \u001b[39mand\u001b[39;00m \u001b[39many\u001b[39m(\u001b[39misinstance\u001b[39m(x, \u001b[39mslice\u001b[39m) \u001b[39mfor\u001b[39;00m x \u001b[39min\u001b[39;00m casted_key)\n\u001b[0;32m   3795\u001b[0m     ):\n\u001b[0;32m   3796\u001b[0m         \u001b[39mraise\u001b[39;00m InvalidIndexError(key)\n\u001b[1;32m-> 3797\u001b[0m     \u001b[39mraise\u001b[39;00m \u001b[39mKeyError\u001b[39;00m(key) \u001b[39mfrom\u001b[39;00m \u001b[39merr\u001b[39;00m\n\u001b[0;32m   3798\u001b[0m \u001b[39mexcept\u001b[39;00m \u001b[39mTypeError\u001b[39;00m:\n\u001b[0;32m   3799\u001b[0m     \u001b[39m# If we have a listlike key, _check_indexing_error will raise\u001b[39;00m\n\u001b[0;32m   3800\u001b[0m     \u001b[39m#  InvalidIndexError. Otherwise we fall through and re-raise\u001b[39;00m\n\u001b[0;32m   3801\u001b[0m     \u001b[39m#  the TypeError.\u001b[39;00m\n\u001b[0;32m   3802\u001b[0m     \u001b[39mself\u001b[39m\u001b[39m.\u001b[39m_check_indexing_error(key)\n",
      "\u001b[1;31mKeyError\u001b[0m: 'title'"
     ]
    }
   ],
   "source": [
    "recomendacion_usuario(\"Sp3ctre\")"
   ]
  }
 ],
 "metadata": {
  "kernelspec": {
   "display_name": "Python 3",
   "language": "python",
   "name": "python3"
  },
  "language_info": {
   "codemirror_mode": {
    "name": "ipython",
    "version": 3
   },
   "file_extension": ".py",
   "mimetype": "text/x-python",
   "name": "python",
   "nbconvert_exporter": "python",
   "pygments_lexer": "ipython3",
   "version": "3.9.18"
  }
 },
 "nbformat": 4,
 "nbformat_minor": 2
}
